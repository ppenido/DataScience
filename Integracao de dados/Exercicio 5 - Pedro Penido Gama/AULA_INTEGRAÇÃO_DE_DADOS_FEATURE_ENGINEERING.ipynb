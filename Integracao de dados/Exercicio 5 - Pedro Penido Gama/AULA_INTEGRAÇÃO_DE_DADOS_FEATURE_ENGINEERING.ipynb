{
  "cells": [
    {
      "cell_type": "markdown",
      "metadata": {
        "id": "vK5_wnePSrWT"
      },
      "source": [
        "# INÍCIO"
      ]
    },
    {
      "cell_type": "markdown",
      "metadata": {
        "id": "epkrT_l0OcOV"
      },
      "source": [
        "---\n",
        "PONTIFÍCIA UNIVERSIDADE CATÓLICA DE MINAS GERAIS<br>\n",
        "CURSO: INFORME AQUI O NOME DO SEU CURSO<br>\n",
        "DISCIPLINA: INFORME AQUI O NOME DA DISCIPLINA<br>\n",
        "* ALUNO: INFORME SEU NOME COMPLETO<br>\n",
        "* MATRÍCULA: INFORME AQUI A SUA MATRÍCULA<br>\n",
        "* PROFESSOR: VICTOR SALES SILVA<br>\n",
        "* ATIVIDADE: ATIVIDADE DE MANIPULAÇÃO DE DADOS USANDO LINGUAGEM PYTHON/SPARK<br>\n",
        "---\n"
      ]
    },
    {
      "cell_type": "markdown",
      "metadata": {
        "id": "Y5SKuE4UO-KL"
      },
      "source": [
        "## CONFIGURAÇÃO DO AMBIENTE"
      ]
    },
    {
      "cell_type": "markdown",
      "metadata": {
        "id": "W2d-mOHCO_uT"
      },
      "source": [
        "### INSTALAÇÃO DAS BIBLIOTECAS"
      ]
    },
    {
      "cell_type": "markdown",
      "metadata": {
        "id": "eZSVk8xnfQ9N"
      },
      "source": [
        "#### BIBLIOTECA PARA MANIPULAÇÃO DE DADOS NO AZURE STORAGE ACCOUNT"
      ]
    },
    {
      "cell_type": "code",
      "execution_count": null,
      "metadata": {
        "id": "S7lR3Eg8PC4_"
      },
      "outputs": [],
      "source": [
        "pip install azure-storage-blob"
      ]
    },
    {
      "cell_type": "markdown",
      "metadata": {
        "id": "GpwvIWlkfU54"
      },
      "source": [
        "#### BIBLIOTECA PARA MANIPULAR DADOS USANDO SPARK (PYTHON)"
      ]
    },
    {
      "cell_type": "code",
      "execution_count": null,
      "metadata": {
        "id": "6VN2utu2fL6X"
      },
      "outputs": [],
      "source": [
        "pip install pyspark"
      ]
    },
    {
      "cell_type": "markdown",
      "metadata": {
        "id": "XWioHtf-fXui"
      },
      "source": [
        "#### BIBLIOTECA PARA USAR A API DO SERVIÇO COGNITIVE SERVICES (ANÁLISE DE TEXTOS) DO MICROSOFT AZURE"
      ]
    },
    {
      "cell_type": "code",
      "execution_count": null,
      "metadata": {
        "id": "wnFP1uYnfN8l"
      },
      "outputs": [],
      "source": [
        "pip install azure-ai-textanalytics"
      ]
    },
    {
      "cell_type": "markdown",
      "metadata": {
        "id": "zHjymSAcPB3D"
      },
      "source": [
        "### IMPORTAÇÃO DAS BIBLIOTECAS"
      ]
    },
    {
      "cell_type": "code",
      "execution_count": null,
      "metadata": {
        "id": "j6poJBWGPA3c"
      },
      "outputs": [],
      "source": [
        "import requests                                                   # Requisições WEB\n",
        "from azure.storage.blob import BlobServiceClient, BlobClient      # Manipulação de arquivos no Azure Storage Blob\n",
        "from pyspark.sql import SQLContext, SparkSession, functions as F  # Criar e manipular aplicações/funções em Spark\n",
        "from pyspark.sql.types import *                                   # Manipular tipos de dados mapeados pelo Spark\n",
        "from azure.ai.textanalytics import TextAnalyticsClient            # Importar cleinte de análise de texto\n",
        "from azure.core.credentials import AzureKeyCredential             # Importar módulo para criação de credenciais\n",
        "import pandas                                                     # Manipulação de dataframes\n",
        "import numpy as np                                                # Manipulação de séries numéricas\n",
        "import matplotlib.pyplot as plt                                   # Para manipulação/criação de gráficos\n",
        "import os                                                         # Manipular arquivos em diretórios de sistema\n",
        "from pathlib import Path                                          # Manipular diretórios"
      ]
    },
    {
      "cell_type": "markdown",
      "metadata": {
        "id": "ALdokjyDhluR"
      },
      "source": [
        "## ANTES DE CONTINUAR, ALGUMAS DICAS:"
      ]
    },
    {
      "cell_type": "markdown",
      "metadata": {
        "id": "p7gXCFvWhtUJ"
      },
      "source": [
        "##### DICAS DE TIPOS DE GRÁFICOS\n",
        "\n",
        "*   Gráfico de barras (bar)\n",
        "*   Gráfico de linhas (line)\n",
        "*   Gráfico de pizza (pie)\n",
        "*   Gráfico de dispersão (Scatterplot)\n",
        "\n",
        "Para definir eixos:\n",
        "\n",
        "*   xlabel = 'nome do eixo X'\n",
        "*   ylabel = 'nome do eixo Y'\n",
        "\n",
        "Para definir títulos\n",
        "\n",
        "*   title = 'nome do título'\n",
        "\n",
        "Para mudar cor de um objeto\n",
        "\n",
        "*   color = 'nome da cor (em inglês)'\n"
      ]
    },
    {
      "cell_type": "markdown",
      "metadata": {
        "id": "4tWHqqhXPB5c"
      },
      "source": [
        "### DEFINIÇÃO DE FUNÇÕES"
      ]
    },
    {
      "cell_type": "markdown",
      "metadata": {
        "id": "41Aa2mtwPd00"
      },
      "source": [
        "#### FUNÇÃO PARA REALIZAR DOWNLOAD DE ARQUIVOS"
      ]
    },
    {
      "cell_type": "code",
      "execution_count": null,
      "metadata": {
        "id": "u3sUHpU2PHss"
      },
      "outputs": [],
      "source": [
        "def download_dados (url_arquivo, nome_arquivo):\n",
        "  requisicao = requests.get(url_arquivo)  # Realiza a requisição na URL\n",
        "  conteudo = requisicao.content           # Salva o conteúdo do arquivo na variável \"conteúdo\"\n",
        "  arquivo = open(nome_arquivo, 'wb')      # Abre arquivo com o nome enviado na função com modo de escrita binária\n",
        "  arquivo.write(conteudo)                 # Grava o conteúdo da variável \"conteudo\" no arquivo\n",
        "  arquivo.close()                         # Fecha o arquivo"
      ]
    },
    {
      "cell_type": "markdown",
      "metadata": {
        "id": "M5aWupTHQb6S"
      },
      "source": [
        "### DEFINIÇÃO DE VARIÁVEIS (EXEMPLO)"
      ]
    },
    {
      "cell_type": "code",
      "execution_count": null,
      "metadata": {
        "id": "ezs-0RECQhGS"
      },
      "outputs": [],
      "source": [
        "url_ordem_compra = ''\n",
        "nome_arquivo_ordem_compra = ''"
      ]
    },
    {
      "cell_type": "markdown",
      "metadata": {
        "id": "5Fe-80fxQs1y"
      },
      "source": [
        "### REALIZA DOWNLOAD DOS ARQUIVOS"
      ]
    },
    {
      "cell_type": "code",
      "execution_count": null,
      "metadata": {
        "id": "oLqkFyriQu5D"
      },
      "outputs": [],
      "source": [
        "download_dados(url_ordem_compra, nome_arquivo_ordem_compra)"
      ]
    },
    {
      "cell_type": "markdown",
      "metadata": {
        "id": "iXn8gSNtQ14C"
      },
      "source": [
        "### LEITURA DOS ARQUIVOS (USANDO PYTHON/PANDAS)"
      ]
    },
    {
      "cell_type": "code",
      "execution_count": null,
      "metadata": {
        "id": "VTB_0Xd-Q3-S"
      },
      "outputs": [],
      "source": [
        "df_ordem_compra = pandas.read_csv(nome_arquivo_ordem_compra)"
      ]
    },
    {
      "cell_type": "markdown",
      "metadata": {
        "id": "pg45gZjCRdhL"
      },
      "source": [
        "#### EXIBINDO AS COLUNAS DOS ARQUIVOS"
      ]
    },
    {
      "cell_type": "code",
      "execution_count": null,
      "metadata": {
        "id": "O5EX2vewRhs5"
      },
      "outputs": [],
      "source": [
        "df_ordem_compra.columns"
      ]
    },
    {
      "cell_type": "markdown",
      "metadata": {
        "id": "foxtJye0Rvs5"
      },
      "source": [
        "#### EXIBINDO OS METADADOS DO ARQUIVO"
      ]
    },
    {
      "cell_type": "code",
      "execution_count": null,
      "metadata": {
        "id": "QVDtmkK-RzSZ"
      },
      "outputs": [],
      "source": [
        "df_ordem_compra.info()"
      ]
    },
    {
      "cell_type": "markdown",
      "metadata": {
        "id": "QCbF3IMPRYXT"
      },
      "source": [
        "#### EXIBINDO UMA AMOSTRA DO ARQUIVO"
      ]
    },
    {
      "cell_type": "code",
      "execution_count": null,
      "metadata": {
        "id": "NG6unPNRQ84r"
      },
      "outputs": [],
      "source": [
        "df_ordem_compra.head(n=10)"
      ]
    },
    {
      "cell_type": "markdown",
      "metadata": {
        "id": "n1WQBbl0Tf8R"
      },
      "source": [
        "#### MODIFICANDO A ESTRUTURA DE ARQUIVO"
      ]
    },
    {
      "cell_type": "markdown",
      "metadata": {
        "id": "5q8DGb7uR-4B"
      },
      "source": [
        "##### EXEMPLO 1: ALTERANDO O TIPO DE DADO DE UMA(S) COLUNA(S)"
      ]
    },
    {
      "cell_type": "code",
      "execution_count": null,
      "metadata": {
        "id": "ur7cZ6riR9wz"
      },
      "outputs": [],
      "source": [
        "df_ordem_compra['order_id'] = df_ordem_compra['order_id'].astype('string')\n",
        "df_ordem_compra['customer_id'] = df_ordem_compra['customer_id'].astype('string')\n",
        "df_ordem_compra['order_status'] = df_ordem_compra['order_status'].astype('string')\n",
        "df_ordem_compra['order_purchase_timestamp'] = df_ordem_compra['order_purchase_timestamp'].astype('datetime64')\n",
        "df_ordem_compra['order_approved_at'] = df_ordem_compra['order_approved_at'].astype('datetime64')\n",
        "df_ordem_compra['order_delivered_carrier_date'] = df_ordem_compra['order_delivered_carrier_date'].astype('datetime64')\n",
        "df_ordem_compra['order_delivered_customer_date'] = df_ordem_compra['order_delivered_customer_date'].astype('datetime64')\n",
        "df_ordem_compra['order_estimated_delivery_date'] = df_ordem_compra['order_estimated_delivery_date'].astype('datetime64')\n"
      ]
    },
    {
      "cell_type": "markdown",
      "metadata": {
        "id": "r7ZxORP2Scqo"
      },
      "source": [
        "###### VALIDANDO AS ALTERAÇÕES"
      ]
    },
    {
      "cell_type": "markdown",
      "metadata": {
        "id": "r8YoNLWVSiJZ"
      },
      "source": [
        "###### EXIBINDO AS ALTERAÇÕES NOS METADADOS"
      ]
    },
    {
      "cell_type": "code",
      "execution_count": null,
      "metadata": {
        "id": "Wmlmr91WSY9q"
      },
      "outputs": [],
      "source": [
        "df_ordem_compra.info()"
      ]
    },
    {
      "cell_type": "markdown",
      "metadata": {
        "id": "7glgidynSnd5"
      },
      "source": [
        "###### EXIBINDO UMA AMOSTRA DO ARQUIVO"
      ]
    },
    {
      "cell_type": "code",
      "execution_count": null,
      "metadata": {
        "id": "PdFZTvoBSfOx"
      },
      "outputs": [],
      "source": [
        "df_ordem_compra.head(10)"
      ]
    },
    {
      "cell_type": "markdown",
      "metadata": {
        "id": "-cL-b37YUCm4"
      },
      "source": [
        "##### EXEMPLO 2: ALTERANDO O SCHEMA DO ARQUIVO USANDO UM DICIONÁRIO"
      ]
    },
    {
      "cell_type": "code",
      "execution_count": null,
      "metadata": {
        "id": "04wd1JTUSgnL"
      },
      "outputs": [],
      "source": [
        "schema_ordem_compra = {\n",
        "    \"order_id\" : \"string\",\n",
        "    \"customer_id\" : \"string\",\n",
        "    \"order_status\" : \"string\",\n",
        "    \"order_purchase_timestamp\" : \"datetime64\",\n",
        "    \"order_approved_at\" : \"datetime64\",\n",
        "    \"order_delivered_carrier_date\" : \"datetime64\",\n",
        "    \"order_delivered_customer_date\" : \"datetime64\",\n",
        "    \"order_estimated_delivery_date\" : \"datetime64\"\n",
        "}"
      ]
    },
    {
      "cell_type": "code",
      "execution_count": null,
      "metadata": {
        "id": "bf7guXrOUPfR"
      },
      "outputs": [],
      "source": [
        "df_ordem_compra = df_ordem_compra.astype(schema_ordem_compra)"
      ]
    },
    {
      "cell_type": "markdown",
      "metadata": {
        "id": "jHbIfV3gUN7X"
      },
      "source": [
        "###### VALIDANDO AS ALTERAÇÕES"
      ]
    },
    {
      "cell_type": "code",
      "execution_count": null,
      "metadata": {
        "id": "IP5U9McvUUzI"
      },
      "outputs": [],
      "source": [
        "df_ordem_compra.info()"
      ]
    },
    {
      "cell_type": "markdown",
      "metadata": {
        "id": "-Jxb9qm2UX3x"
      },
      "source": [
        ""
      ]
    },
    {
      "cell_type": "markdown",
      "metadata": {
        "id": "GkyYOx9EUcDI"
      },
      "source": [
        "###### EXIBINDO UMA AMOSTRA DO ARQUIVO"
      ]
    },
    {
      "cell_type": "code",
      "execution_count": null,
      "metadata": {
        "id": "buAT35VUUbgT"
      },
      "outputs": [],
      "source": [
        "df_ordem_compra.head(10)"
      ]
    },
    {
      "cell_type": "markdown",
      "metadata": {
        "id": "XuWME-F2Un6p"
      },
      "source": [
        "#### MANIPULAÇÃO NO(S) ARQUIVO(S)"
      ]
    },
    {
      "cell_type": "markdown",
      "metadata": {
        "id": "nx6Rb0uoVfNP"
      },
      "source": [
        "##### IDENTIFICANDO A QUANTIDADE DE COMPRAS"
      ]
    },
    {
      "cell_type": "code",
      "execution_count": null,
      "metadata": {
        "id": "Rn3xfgKPUqhC"
      },
      "outputs": [],
      "source": [
        "df_ordem_compra['order_id'].count()"
      ]
    },
    {
      "cell_type": "markdown",
      "metadata": {
        "id": "LWIrZh1rVox_"
      },
      "source": [
        "##### IDENTIFICANDO A QUANTIDADE DISTINTA DE USUÁRIOS"
      ]
    },
    {
      "cell_type": "code",
      "execution_count": null,
      "metadata": {
        "id": "GFn3JNK4U5hh"
      },
      "outputs": [],
      "source": [
        "df_ordem_compra['customer_id'].nunique()"
      ]
    },
    {
      "cell_type": "markdown",
      "metadata": {
        "id": "2FXhqaLIWDNf"
      },
      "source": [
        "##### IDENTIFICANDO A ORDEM DE COMPRA MAIS ANTIGA E MAIS RECENTE"
      ]
    },
    {
      "cell_type": "markdown",
      "metadata": {
        "id": "vlDkxyNbXyXO"
      },
      "source": [
        "##### EXEMPLO 1: USANDO NUMPY E AGGREGATE"
      ]
    },
    {
      "cell_type": "code",
      "execution_count": null,
      "metadata": {
        "id": "ElVDkp-7VuoX"
      },
      "outputs": [],
      "source": [
        "df_ordem_compra.agg({'order_purchase_timestamp' : [np.min, np.max]})"
      ]
    },
    {
      "cell_type": "markdown",
      "metadata": {
        "id": "cVcdhZDXYF0I"
      },
      "source": [
        "##### EXEMPLO 2: USANDO MIN E MAX SEPARADAMENTE"
      ]
    },
    {
      "cell_type": "code",
      "execution_count": null,
      "metadata": {
        "id": "gHMAKcwqWRY4"
      },
      "outputs": [],
      "source": [
        "df_ordem_compra['order_purchase_timestamp'].min() # OU min(df_ordem_compra['order_purchase_timestamp'])"
      ]
    },
    {
      "cell_type": "code",
      "execution_count": null,
      "metadata": {
        "id": "iRoVjp3EYLxl"
      },
      "outputs": [],
      "source": [
        "df_ordem_compra['order_purchase_timestamp'].max() # OU max(df_ordem_compra['order_purchase_timestamp'])"
      ]
    },
    {
      "cell_type": "markdown",
      "metadata": {
        "id": "197LynpdnNZW"
      },
      "source": [
        "##### EXEMPLO 3: USANDO A FUNÇÃO DESCRIBE"
      ]
    },
    {
      "cell_type": "code",
      "execution_count": null,
      "metadata": {
        "id": "rYpTQQmCnP3X"
      },
      "outputs": [],
      "source": [
        "df_ordem_compra.describe()"
      ]
    },
    {
      "cell_type": "markdown",
      "metadata": {
        "id": "ja3c3aLFcNNM"
      },
      "source": [
        "##### ANALISANDO A DISTRIBUIÇÃO DE COMPRAS POR ANO/MÊS (GRÁFICO DE BARRAS)"
      ]
    },
    {
      "cell_type": "code",
      "execution_count": null,
      "metadata": {
        "id": "-LBY04_dYE83"
      },
      "outputs": [],
      "source": [
        "df_ordem_compra[['order_id']] \\\n",
        "  .groupby([df_ordem_compra['order_purchase_timestamp'].dt.year, df_ordem_compra['order_purchase_timestamp'].dt.month]) \\\n",
        "  .agg(['count']).rename(columns={'order_id' : 'compras'}) \\\n",
        "  .plot(xlabel = 'Ano/Mês', ylabel='Compras', title='Compras por ano', color=\"green\", kind='bar')"
      ]
    },
    {
      "cell_type": "markdown",
      "metadata": {
        "id": "Sdikodrxn2Cl"
      },
      "source": [
        "#### GRAVANDO UM ARQUIVO USANDO O MÉTODO PANDAS"
      ]
    },
    {
      "cell_type": "markdown",
      "metadata": {
        "id": "Z5Ohy1AVg1cK"
      },
      "source": [
        "### LEITURA DOS ARQUIVOS (USANDO PYTHON/SPARK)"
      ]
    },
    {
      "cell_type": "markdown",
      "metadata": {
        "id": "fiJJFizVg8Fl"
      },
      "source": [
        "#### CRIAÇÃO DA APLICAÇÃO SPARK"
      ]
    },
    {
      "cell_type": "code",
      "execution_count": null,
      "metadata": {
        "id": "9FX1LWwbg5WO"
      },
      "outputs": [],
      "source": [
        "spark = SparkSession.builder.getOrCreate() # Constroi (ou obtem de um ambiente criado) uma aplicação\n",
        "sqlcontext = SQLContext(spark)                     # Cria um contexto Spark para trabalhar com funções SQL\n",
        "sparkcontext = spark.sparkContext          # Cria um contexto Spark para manipular dados de forma distribuiída"
      ]
    },
    {
      "cell_type": "code",
      "execution_count": null,
      "metadata": {
        "id": "UcCFuIjlhOZR"
      },
      "outputs": [],
      "source": [
        "dfs_ordem_compra = spark.read.csv(nome_arquivo_ordem_compra, header=True, inferSchema=True)"
      ]
    },
    {
      "cell_type": "markdown",
      "metadata": {
        "id": "OFElAIxmhX-M"
      },
      "source": [
        "#### EXIBINDO AS COLUNAS DOS ARQUIVOS"
      ]
    },
    {
      "cell_type": "code",
      "execution_count": null,
      "metadata": {
        "id": "JX_yuj9QhT_y"
      },
      "outputs": [],
      "source": [
        "dfs_ordem_compra.columns"
      ]
    },
    {
      "cell_type": "markdown",
      "metadata": {
        "id": "-_Ze1NLyhZYZ"
      },
      "source": [
        "#### EXIBINDO OS METADADOS DO ARQUIVO"
      ]
    },
    {
      "cell_type": "code",
      "execution_count": null,
      "metadata": {
        "id": "X1adCYydhany"
      },
      "outputs": [],
      "source": [
        "dfs_ordem_compra.summary().show()"
      ]
    },
    {
      "cell_type": "markdown",
      "metadata": {
        "id": "9fYM-U9Bha7N"
      },
      "source": [
        "#### EXIBINDO UMA AMOSTRA DO ARQUIVO"
      ]
    },
    {
      "cell_type": "code",
      "execution_count": null,
      "metadata": {
        "id": "aqXcjLf0jYzR"
      },
      "outputs": [],
      "source": [
        "dfs_ordem_compra.show(n=5)"
      ]
    },
    {
      "cell_type": "markdown",
      "metadata": {
        "id": "xALIOVK9j9pm"
      },
      "source": [
        "#### EXIBINDO O SCHEMA DOS DADOS"
      ]
    },
    {
      "cell_type": "code",
      "execution_count": null,
      "metadata": {
        "id": "t2gWJMq0j_WJ"
      },
      "outputs": [],
      "source": [
        "dfs_ordem_compra.printSchema()"
      ]
    },
    {
      "cell_type": "markdown",
      "metadata": {
        "id": "2hDvP5uPmLrV"
      },
      "source": [
        "#### CRIAR UMA VISÃO PARA TRABALHAR COM DATAFRAMES USANDO LINGUAGEM SQL"
      ]
    },
    {
      "cell_type": "code",
      "execution_count": null,
      "metadata": {
        "id": "9U5EiGaUmQmR"
      },
      "outputs": [],
      "source": [
        "dfs_ordem_compra.createOrReplaceTempView(\"dfs_ordem_compra\")"
      ]
    },
    {
      "cell_type": "code",
      "execution_count": null,
      "metadata": {
        "id": "HzKti5i8mVIB"
      },
      "outputs": [],
      "source": [
        "resultado = sqlcontext.sql(\"\"\"\n",
        "SELECT *\n",
        "FROM  dfs_ordem_compra\n",
        "\"\"\")"
      ]
    },
    {
      "cell_type": "code",
      "execution_count": null,
      "metadata": {
        "id": "niFNjXVWmU-i"
      },
      "outputs": [],
      "source": [
        "resultado.show()"
      ]
    },
    {
      "cell_type": "markdown",
      "metadata": {
        "id": "oKlOSUoBn51E"
      },
      "source": [
        "#### GRAVANDO UM ARQUIVO USANDO O SPARK"
      ]
    },
    {
      "cell_type": "code",
      "execution_count": null,
      "metadata": {
        "id": "id-JxLSrn8Gv"
      },
      "outputs": [],
      "source": [
        "dfs_ordem_compra.coalesce(1).write.mode(\"overwrite\").format(\"csv\").options(header=True, delimiter=\";\").save(\"pasta\")"
      ]
    },
    {
      "cell_type": "markdown",
      "metadata": {
        "id": "YDNCb6WikC00"
      },
      "source": [
        "## ANÁLISE DE SENTIMENTOS"
      ]
    },
    {
      "cell_type": "markdown",
      "metadata": {
        "id": "7p2vJFPSkXbO"
      },
      "source": [
        "### DEFINIÇÃO DE PARÂMETROS PARA USAR A API"
      ]
    },
    {
      "cell_type": "code",
      "execution_count": null,
      "metadata": {
        "id": "IcuRRKSmkIjY"
      },
      "outputs": [],
      "source": [
        "chave_api = \"\" # COLOQUE AQUI A SUA CHAVE\n",
        "endpoint_api = \"\" # COLOQUE AQUI O SEU ENDPOINT"
      ]
    },
    {
      "cell_type": "markdown",
      "metadata": {
        "id": "8jcz9zcIkazo"
      },
      "source": [
        "### CRIAÇÃO DE FUNÇÃO PARA CHAMAR A API"
      ]
    },
    {
      "cell_type": "code",
      "execution_count": null,
      "metadata": {
        "id": "dk3yUC2TkdlH"
      },
      "outputs": [],
      "source": [
        "def criar_cliente():\n",
        "    criar_cliente_analise = TextAnalyticsClient(\n",
        "        endpoint=endpoint_api,\n",
        "        credential=AzureKeyCredential(chave_api)\n",
        "    )\n",
        "    return criar_cliente_analise"
      ]
    },
    {
      "cell_type": "markdown",
      "metadata": {
        "id": "z6r28mXVkwWJ"
      },
      "source": [
        "### FUNÇÃO PARA ANALISAR SENTIMENTOS"
      ]
    },
    {
      "cell_type": "code",
      "execution_count": null,
      "metadata": {
        "id": "OjpANmNekvNT"
      },
      "outputs": [],
      "source": [
        "def funcao_analisa_sentimentos(cliente, id, documento):\n",
        "    response = cliente.analyze_sentiment(documents=documento)[0]\n",
        "\n",
        "    df_resultado = sqlcontext.createDataFrame([( str(id), str(response.sentiment), str(response.confidence_scores.positive), str(response.confidence_scores.negative), str(response.confidence_scores.neutral))], (\"order_id\", \"sentimento\", \"score_positivo\",\"score_negativo\",\"score_neutro\"))\n",
        "    return df_resultado"
      ]
    },
    {
      "cell_type": "markdown",
      "metadata": {
        "id": "yFpsBIQImvWA"
      },
      "source": [
        "### FUNÇÃO PARA ARMAZENAR DADOS NO AZURE DATALAKE STORAGE GEN2"
      ]
    },
    {
      "cell_type": "markdown",
      "metadata": {
        "id": "V-g2YKJ5nBOM"
      },
      "source": [
        "#### VARIÁVEL COM A CADEIA DE CONEXÃO DO SERVIÇO AZURE STORAGE ACCOUNT"
      ]
    },
    {
      "cell_type": "code",
      "execution_count": null,
      "metadata": {
        "id": "uvFxYBd0m4uV"
      },
      "outputs": [],
      "source": [
        "endpoint_azure = \"\""
      ]
    },
    {
      "cell_type": "code",
      "execution_count": null,
      "metadata": {
        "id": "ysiAoPhim292"
      },
      "outputs": [],
      "source": [
        "def carrega_arquivo_blob(local_destino, nome_arquivo, caminho_destino):\n",
        "    \n",
        "    # PARA BUSCAR O ENDPOINT DA SUA CONTA, ACESSE O SERVIÇO \"CONTAS DE ARMAZENAMENTO\"\n",
        "    # NO PAINEL A ESQUERDA, NO MENU \"SEGURANÇA + REDE\", SELECIONE A OPÇÃO \"CHAVES DE ACESSO\"\n",
        "    # CLIQUE EM \"MOSTRAR AS CHAVES\" E COPIE A CADEIA DE CONEXÃO DE UMA DAS CHAVES (1 OU 2)\n",
        "    # COLE TODA A INSTRUÇÃO COMO VALOR DA VARIÁVEL ABAIXO\n",
        "    conexao_blob = \"\"\n",
        "    blob_service_client = BlobServiceClient.from_connection_string(conexao_blob)\n",
        "    blob_client = blob_service_client.get_blob_client(container=local_destino, blob=nome_arquivo)\n",
        "    try:\n",
        "        with open(caminho_destino, \"rb\") as data:\n",
        "            blob_client.upload_blob(data, overwrite=True)\n",
        "            print(\"Arquivo carregado com sucesso\")\n",
        "    except NameError:\n",
        "        print(\"Erro\")"
      ]
    },
    {
      "cell_type": "code",
      "execution_count": null,
      "metadata": {
        "id": "FkODMg57nNwf"
      },
      "outputs": [],
      "source": [
        "localdestino = \"\" # Mude para o nome do Contêiner da sua conta (Exemplo: datalake/raw-zone/olist_ecommerce/)\n",
        "caminho_pasta_local = \"orders_reviews\"\n",
        "arquivos = os.listdir(caminho_pasta_local)\n",
        "\n",
        "for arquivo_origem in arquivos:\n",
        "    if (arquivo_origem.endswith('.csv')):\n",
        "        caminho_destino = os.path.join(caminho_pasta_local, arquivo_origem)\n",
        "        arquivo = \"\"\n",
        "        carrega_arquivo_blob (localdestino, arquivo, caminho_destino)"
      ]
    }
  ],
  "metadata": {
    "colab": {
      "name": "AULA_INTEGRAÇÃO_DE_DADOS_FEATURE_ENGINEERING.ipynb",
      "provenance": [],
      "toc_visible": true,
      "collapsed_sections": [
        "41Aa2mtwPd00",
        "pg45gZjCRdhL",
        "foxtJye0Rvs5",
        "QCbF3IMPRYXT",
        "n1WQBbl0Tf8R",
        "XuWME-F2Un6p",
        "Sdikodrxn2Cl",
        "fiJJFizVg8Fl",
        "OFElAIxmhX-M",
        "-_Ze1NLyhZYZ",
        "9fYM-U9Bha7N",
        "xALIOVK9j9pm",
        "2hDvP5uPmLrV",
        "oKlOSUoBn51E",
        "V-g2YKJ5nBOM"
      ]
    },
    "kernelspec": {
      "display_name": "Python 3",
      "name": "python3"
    },
    "language_info": {
      "name": "python"
    }
  },
  "nbformat": 4,
  "nbformat_minor": 0
}