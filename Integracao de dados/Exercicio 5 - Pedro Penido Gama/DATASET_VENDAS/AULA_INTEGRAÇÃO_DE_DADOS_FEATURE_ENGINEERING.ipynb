{
  "cells": [
    {
      "cell_type": "markdown",
      "source": [
        "# INÍCIO"
      ],
      "metadata": {
        "id": "vK5_wnePSrWT"
      }
    },
    {
      "cell_type": "markdown",
      "source": [
        "---\n",
        "PONTIFÍCIA UNIVERSIDADE CATÓLICA DE MINAS GERAIS<br>\n",
        "CURSO: Ciencia de dados e big data<br>\n",
        "DISCIPLINA: Integracao e processamentos de fluxos continuos de dados <br>\n",
        "* ALUNO: Pedro Penido Gama<br>\n",
        "* MATRÍCULA: 149820<br>\n",
        "* PROFESSOR: VICTOR SALES SILVA<br>\n",
        "* ATIVIDADE: ATIVIDADE DE MANIPULAÇÃO DE DADOS USANDO LINGUAGEM PYTHON/SPARK<br>\n",
        "---\n"
      ],
      "metadata": {
        "id": "epkrT_l0OcOV"
      }
    },
    {
      "cell_type": "markdown",
      "source": [
        "## CONFIGURAÇÃO DO AMBIENTE"
      ],
      "metadata": {
        "id": "Y5SKuE4UO-KL"
      }
    },
    {
      "cell_type": "markdown",
      "source": [
        "### INSTALAÇÃO DAS BIBLIOTECAS"
      ],
      "metadata": {
        "id": "W2d-mOHCO_uT"
      }
    },
    {
      "cell_type": "markdown",
      "source": [
        "#### BIBLIOTECA PARA MANIPULAÇÃO DE DADOS NO AZURE STORAGE ACCOUNT"
      ],
      "metadata": {
        "id": "eZSVk8xnfQ9N"
      }
    },
    {
      "cell_type": "code",
      "source": [
        "pip install azure-storage-blob"
      ],
      "outputs": [
        {
          "output_type": "stream",
          "name": "stdout",
          "text": "Requirement already satisfied: azure-storage-blob in /anaconda/envs/azureml_py38/lib/python3.8/site-packages (12.12.0)\nRequirement already satisfied: msrest>=0.6.21 in /anaconda/envs/azureml_py38/lib/python3.8/site-packages (from azure-storage-blob) (0.6.21)\nRequirement already satisfied: cryptography>=2.1.4 in /anaconda/envs/azureml_py38/lib/python3.8/site-packages (from azure-storage-blob) (36.0.2)\nCollecting azure-core<2.0.0,>=1.23.1\n  Downloading azure_core-1.24.2-py3-none-any.whl (178 kB)\n\u001b[K     |████████████████████████████████| 178 kB 1.5 MB/s eta 0:00:01\n\u001b[?25hRequirement already satisfied: requests~=2.16 in /anaconda/envs/azureml_py38/lib/python3.8/site-packages (from msrest>=0.6.21->azure-storage-blob) (2.27.1)\nRequirement already satisfied: isodate>=0.6.0 in /anaconda/envs/azureml_py38/lib/python3.8/site-packages (from msrest>=0.6.21->azure-storage-blob) (0.6.1)\nRequirement already satisfied: requests-oauthlib>=0.5.0 in /anaconda/envs/azureml_py38/lib/python3.8/site-packages (from msrest>=0.6.21->azure-storage-blob) (1.3.1)\nRequirement already satisfied: certifi>=2017.4.17 in /anaconda/envs/azureml_py38/lib/python3.8/site-packages (from msrest>=0.6.21->azure-storage-blob) (2022.5.18.1)\nRequirement already satisfied: cffi>=1.12 in /anaconda/envs/azureml_py38/lib/python3.8/site-packages (from cryptography>=2.1.4->azure-storage-blob) (1.15.0)\nRequirement already satisfied: six>=1.11.0 in /anaconda/envs/azureml_py38/lib/python3.8/site-packages (from azure-core<2.0.0,>=1.23.1->azure-storage-blob) (1.16.0)\nRequirement already satisfied: typing-extensions>=4.0.1 in /anaconda/envs/azureml_py38/lib/python3.8/site-packages (from azure-core<2.0.0,>=1.23.1->azure-storage-blob) (4.2.0)\nRequirement already satisfied: idna<4,>=2.5; python_version >= \"3\" in /anaconda/envs/azureml_py38/lib/python3.8/site-packages (from requests~=2.16->msrest>=0.6.21->azure-storage-blob) (3.3)\nRequirement already satisfied: charset-normalizer~=2.0.0; python_version >= \"3\" in /anaconda/envs/azureml_py38/lib/python3.8/site-packages (from requests~=2.16->msrest>=0.6.21->azure-storage-blob) (2.0.12)\nRequirement already satisfied: urllib3<1.27,>=1.21.1 in /anaconda/envs/azureml_py38/lib/python3.8/site-packages (from requests~=2.16->msrest>=0.6.21->azure-storage-blob) (1.26.9)\nRequirement already satisfied: oauthlib>=3.0.0 in /anaconda/envs/azureml_py38/lib/python3.8/site-packages (from requests-oauthlib>=0.5.0->msrest>=0.6.21->azure-storage-blob) (3.2.0)\nRequirement already satisfied: pycparser in /anaconda/envs/azureml_py38/lib/python3.8/site-packages (from cffi>=1.12->cryptography>=2.1.4->azure-storage-blob) (2.21)\n\u001b[31mERROR: azureml-core 1.42.0 has requirement azure-core<=1.22.1, but you'll have azure-core 1.24.2 which is incompatible.\u001b[0m\n\u001b[31mERROR: azureml-contrib-notebook 1.42.0 has requirement nbconvert<6, but you'll have nbconvert 6.5.0 which is incompatible.\u001b[0m\n\u001b[31mERROR: azure-cli 2.37.0 has requirement azure-graphrbac~=0.60.0, but you'll have azure-graphrbac 0.61.1 which is incompatible.\u001b[0m\n\u001b[31mERROR: azure-cli 2.37.0 has requirement azure-mgmt-authorization~=0.61.0, but you'll have azure-mgmt-authorization 2.0.0 which is incompatible.\u001b[0m\n\u001b[31mERROR: azure-cli 2.37.0 has requirement azure-mgmt-containerregistry==8.2.0, but you'll have azure-mgmt-containerregistry 9.1.0 which is incompatible.\u001b[0m\n\u001b[31mERROR: azure-cli 2.37.0 has requirement azure-mgmt-resource==21.1.0b1, but you'll have azure-mgmt-resource 21.0.0 which is incompatible.\u001b[0m\n\u001b[31mERROR: azure-cli-core 2.37.0 has requirement argcomplete~=1.8, but you'll have argcomplete 2.0.0 which is incompatible.\u001b[0m\n\u001b[31mERROR: azure-cli-core 2.37.0 has requirement msal==1.18.0b1, but you'll have msal 1.17.0 which is incompatible.\u001b[0m\n\u001b[31mERROR: azure-cli-core 2.37.0 has requirement msal-extensions~=1.0.0, but you'll have msal-extensions 0.3.1 which is incompatible.\u001b[0m\n\u001b[31mERROR: azure-ai-ml 0.1.0b3 has requirement azure-storage-blob<=12.9.0,>=12.5.0, but you'll have azure-storage-blob 12.12.0 which is incompatible.\u001b[0m\n\u001b[31mERROR: azure-ai-ml 0.1.0b3 has requirement pyjwt<=2.3.0, but you'll have pyjwt 2.4.0 which is incompatible.\u001b[0m\n\u001b[31mERROR: azure-ai-ml 0.1.0b3 has requirement tqdm<=4.63.0, but you'll have tqdm 4.64.0 which is incompatible.\u001b[0m\nInstalling collected packages: azure-core\n  Attempting uninstall: azure-core\n    Found existing installation: azure-core 1.22.1\n    Uninstalling azure-core-1.22.1:\n      Successfully uninstalled azure-core-1.22.1\nSuccessfully installed azure-core-1.24.2\nNote: you may need to restart the kernel to use updated packages.\n"
        }
      ],
      "execution_count": 1,
      "metadata": {
        "id": "S7lR3Eg8PC4_",
        "gather": {
          "logged": 1657061875615
        }
      }
    },
    {
      "cell_type": "markdown",
      "source": [
        "#### BIBLIOTECA PARA MANIPULAR DADOS USANDO SPARK (PYTHON)"
      ],
      "metadata": {
        "id": "GpwvIWlkfU54"
      }
    },
    {
      "cell_type": "code",
      "source": [
        "pip install pyspark"
      ],
      "outputs": [
        {
          "output_type": "stream",
          "name": "stdout",
          "text": "Requirement already satisfied: pyspark in /anaconda/envs/azureml_py38/lib/python3.8/site-packages (3.2.1)\nRequirement already satisfied: py4j==0.10.9.3 in /anaconda/envs/azureml_py38/lib/python3.8/site-packages (from pyspark) (0.10.9.3)\nNote: you may need to restart the kernel to use updated packages.\n"
        }
      ],
      "execution_count": 2,
      "metadata": {
        "id": "6VN2utu2fL6X",
        "gather": {
          "logged": 1657061891633
        }
      }
    },
    {
      "cell_type": "markdown",
      "source": [
        "#### BIBLIOTECA PARA USAR A API DO SERVIÇO COGNITIVE SERVICES (ANÁLISE DE TEXTOS) DO MICROSOFT AZURE"
      ],
      "metadata": {
        "id": "XWioHtf-fXui"
      }
    },
    {
      "cell_type": "code",
      "source": [
        "pip install azure-ai-textanalytics"
      ],
      "outputs": [
        {
          "output_type": "stream",
          "name": "stdout",
          "text": "Collecting azure-ai-textanalytics\n  Downloading azure_ai_textanalytics-5.1.0-py2.py3-none-any.whl (153 kB)\n\u001b[K     |████████████████████████████████| 153 kB 1.6 MB/s eta 0:00:01\n\u001b[?25hRequirement already satisfied: six>=1.11.0 in /anaconda/envs/azureml_py38/lib/python3.8/site-packages (from azure-ai-textanalytics) (1.16.0)\nRequirement already satisfied: msrest>=0.6.21 in /anaconda/envs/azureml_py38/lib/python3.8/site-packages (from azure-ai-textanalytics) (0.6.21)\nRequirement already satisfied: azure-core<2.0.0,>=1.14.0 in /anaconda/envs/azureml_py38/lib/python3.8/site-packages (from azure-ai-textanalytics) (1.24.2)\nRequirement already satisfied: azure-common~=1.1 in /anaconda/envs/azureml_py38/lib/python3.8/site-packages (from azure-ai-textanalytics) (1.1.28)\nRequirement already satisfied: isodate>=0.6.0 in /anaconda/envs/azureml_py38/lib/python3.8/site-packages (from msrest>=0.6.21->azure-ai-textanalytics) (0.6.1)\nRequirement already satisfied: certifi>=2017.4.17 in /anaconda/envs/azureml_py38/lib/python3.8/site-packages (from msrest>=0.6.21->azure-ai-textanalytics) (2022.5.18.1)\nRequirement already satisfied: requests-oauthlib>=0.5.0 in /anaconda/envs/azureml_py38/lib/python3.8/site-packages (from msrest>=0.6.21->azure-ai-textanalytics) (1.3.1)\nRequirement already satisfied: requests~=2.16 in /anaconda/envs/azureml_py38/lib/python3.8/site-packages (from msrest>=0.6.21->azure-ai-textanalytics) (2.27.1)\nRequirement already satisfied: typing-extensions>=4.0.1 in /anaconda/envs/azureml_py38/lib/python3.8/site-packages (from azure-core<2.0.0,>=1.14.0->azure-ai-textanalytics) (4.2.0)\nRequirement already satisfied: oauthlib>=3.0.0 in /anaconda/envs/azureml_py38/lib/python3.8/site-packages (from requests-oauthlib>=0.5.0->msrest>=0.6.21->azure-ai-textanalytics) (3.2.0)\nRequirement already satisfied: idna<4,>=2.5; python_version >= \"3\" in /anaconda/envs/azureml_py38/lib/python3.8/site-packages (from requests~=2.16->msrest>=0.6.21->azure-ai-textanalytics) (3.3)\nRequirement already satisfied: charset-normalizer~=2.0.0; python_version >= \"3\" in /anaconda/envs/azureml_py38/lib/python3.8/site-packages (from requests~=2.16->msrest>=0.6.21->azure-ai-textanalytics) (2.0.12)\nRequirement already satisfied: urllib3<1.27,>=1.21.1 in /anaconda/envs/azureml_py38/lib/python3.8/site-packages (from requests~=2.16->msrest>=0.6.21->azure-ai-textanalytics) (1.26.9)\nInstalling collected packages: azure-ai-textanalytics\nSuccessfully installed azure-ai-textanalytics-5.1.0\nNote: you may need to restart the kernel to use updated packages.\n"
        }
      ],
      "execution_count": 3,
      "metadata": {
        "id": "wnFP1uYnfN8l",
        "gather": {
          "logged": 1657061901180
        }
      }
    },
    {
      "cell_type": "markdown",
      "source": [
        "### IMPORTAÇÃO DAS BIBLIOTECAS"
      ],
      "metadata": {
        "id": "zHjymSAcPB3D"
      }
    },
    {
      "cell_type": "code",
      "source": [
        "import requests                                                   # Requisições WEB\n",
        "from azure.storage.blob import BlobServiceClient, BlobClient      # Manipulação de arquivos no Azure Storage Blob\n",
        "from pyspark.sql import SQLContext, SparkSession, functions as F  # Criar e manipular aplicações/funções em Spark\n",
        "from pyspark.sql.types import *                                   # Manipular tipos de dados mapeados pelo Spark\n",
        "from azure.ai.textanalytics import TextAnalyticsClient            # Importar cleinte de análise de texto\n",
        "from azure.core.credentials import AzureKeyCredential             # Importar módulo para criação de credenciais\n",
        "import pandas                                                     # Manipulação de dataframes\n",
        "import numpy as np                                                # Manipulação de séries numéricas\n",
        "import matplotlib.pyplot as plt                                   # Para manipulação/criação de gráficos\n",
        "import os                                                         # Manipular arquivos em diretórios de sistema\n",
        "from pathlib import Path                                          # Manipular diretórios"
      ],
      "outputs": [],
      "execution_count": 5,
      "metadata": {
        "id": "j6poJBWGPA3c",
        "gather": {
          "logged": 1657062106662
        }
      }
    },
    {
      "cell_type": "markdown",
      "source": [
        "## ANTES DE CONTINUAR, ALGUMAS DICAS:"
      ],
      "metadata": {
        "id": "ALdokjyDhluR"
      }
    },
    {
      "cell_type": "markdown",
      "source": [
        "##### DICAS DE TIPOS DE GRÁFICOS\n",
        "\n",
        "*   Gráfico de barras (bar)\n",
        "*   Gráfico de linhas (line)\n",
        "*   Gráfico de pizza (pie)\n",
        "*   Gráfico de dispersão (Scatterplot)\n",
        "\n",
        "Para definir eixos:\n",
        "\n",
        "*   xlabel = 'nome do eixo X'\n",
        "*   ylabel = 'nome do eixo Y'\n",
        "\n",
        "Para definir títulos\n",
        "\n",
        "*   title = 'nome do título'\n",
        "\n",
        "Para mudar cor de um objeto\n",
        "\n",
        "*   color = 'nome da cor (em inglês)'\n"
      ],
      "metadata": {
        "id": "p7gXCFvWhtUJ"
      }
    },
    {
      "cell_type": "markdown",
      "source": [
        "### DEFINIÇÃO DE FUNÇÕES"
      ],
      "metadata": {
        "id": "4tWHqqhXPB5c"
      }
    },
    {
      "cell_type": "markdown",
      "source": [
        "#### FUNÇÃO PARA REALIZAR DOWNLOAD DE ARQUIVOS"
      ],
      "metadata": {
        "id": "41Aa2mtwPd00"
      }
    },
    {
      "cell_type": "code",
      "source": [
        "def download_dados (url_arquivo, nome_arquivo):\n",
        "  requisicao = requests.get(url_arquivo)  # Realiza a requisição na URL\n",
        "  conteudo = requisicao.content           # Salva o conteúdo do arquivo na variável \"conteúdo\"\n",
        "  arquivo = open(nome_arquivo, 'wb')      # Abre arquivo com o nome enviado na função com modo de escrita binária\n",
        "  arquivo.write(conteudo)                 # Grava o conteúdo da variável \"conteudo\" no arquivo\n",
        "  arquivo.close()                         # Fecha o arquivo"
      ],
      "outputs": [],
      "execution_count": 6,
      "metadata": {
        "id": "u3sUHpU2PHss",
        "gather": {
          "logged": 1657062169999
        }
      }
    },
    {
      "cell_type": "markdown",
      "source": [
        "### DEFINIÇÃO DE VARIÁVEIS (EXEMPLO)"
      ],
      "metadata": {
        "id": "M5aWupTHQb6S"
      }
    },
    {
      "cell_type": "code",
      "source": [
        "url_ordem_compra = 'https://datalakeaula149820.blob.core.windows.net/datalake/raw-zone/olist/olist_orders_dataset/olist_orders_dataset.csv'\n",
        "nome_arquivo_ordem_compra = 'olist_orders_dataset.csv'"
      ],
      "outputs": [],
      "execution_count": 8,
      "metadata": {
        "id": "ezs-0RECQhGS",
        "gather": {
          "logged": 1657062653499
        }
      }
    },
    {
      "cell_type": "code",
      "source": [
        "url_ordem_reviews = 'https://datalakeaula149820.blob.core.windows.net/datalake/raw-zone/olist/olist_order_reviews_dataset/olist_order_reviews_dataset.csv'\r\n",
        "nome_arquivo_ordem_reviews = 'olist_order_reviews_dataset.csv'"
      ],
      "outputs": [],
      "execution_count": 9,
      "metadata": {
        "jupyter": {
          "source_hidden": false,
          "outputs_hidden": false
        },
        "nteract": {
          "transient": {
            "deleting": false
          }
        },
        "gather": {
          "logged": 1657062655532
        }
      }
    },
    {
      "cell_type": "code",
      "source": [
        "url_clientes = 'https://datalakeaula149820.blob.core.windows.net/datalake/raw-zone/olist/olist_customers_dataset/olist_customers_dataset.csv'\r\n",
        "nome_arquivo_clientes = 'olist_customers_dataset.csv'"
      ],
      "outputs": [],
      "execution_count": 10,
      "metadata": {
        "jupyter": {
          "source_hidden": false,
          "outputs_hidden": false
        },
        "nteract": {
          "transient": {
            "deleting": false
          }
        },
        "gather": {
          "logged": 1657062657306
        }
      }
    },
    {
      "cell_type": "markdown",
      "source": [
        "### REALIZA DOWNLOAD DOS ARQUIVOS"
      ],
      "metadata": {
        "id": "5Fe-80fxQs1y"
      }
    },
    {
      "cell_type": "code",
      "source": [
        "download_dados(url_ordem_compra, nome_arquivo_ordem_compra)\r\n",
        "download_dados(url_ordem_reviews, nome_arquivo_ordem_reviews)\r\n",
        "download_dados(url_clientes, nome_arquivo_clientes)"
      ],
      "outputs": [],
      "execution_count": 12,
      "metadata": {
        "id": "oLqkFyriQu5D",
        "gather": {
          "logged": 1657062772165
        }
      }
    },
    {
      "cell_type": "markdown",
      "source": [
        "### LEITURA DOS ARQUIVOS (USANDO PYTHON/PANDAS)"
      ],
      "metadata": {
        "id": "iXn8gSNtQ14C"
      }
    },
    {
      "cell_type": "code",
      "source": [
        "df_ordem_compra = pandas.read_csv(nome_arquivo_ordem_compra)"
      ],
      "outputs": [],
      "execution_count": null,
      "metadata": {
        "id": "VTB_0Xd-Q3-S"
      }
    },
    {
      "cell_type": "markdown",
      "source": [
        "#### EXIBINDO AS COLUNAS DOS ARQUIVOS"
      ],
      "metadata": {
        "id": "pg45gZjCRdhL"
      }
    },
    {
      "cell_type": "code",
      "source": [
        "df_ordem_compra.columns"
      ],
      "outputs": [],
      "execution_count": null,
      "metadata": {
        "id": "O5EX2vewRhs5"
      }
    },
    {
      "cell_type": "markdown",
      "source": [
        "#### EXIBINDO OS METADADOS DO ARQUIVO"
      ],
      "metadata": {
        "id": "foxtJye0Rvs5"
      }
    },
    {
      "cell_type": "code",
      "source": [
        "df_ordem_compra.info()"
      ],
      "outputs": [],
      "execution_count": null,
      "metadata": {
        "id": "QVDtmkK-RzSZ"
      }
    },
    {
      "cell_type": "markdown",
      "source": [
        "#### EXIBINDO UMA AMOSTRA DO ARQUIVO"
      ],
      "metadata": {
        "id": "QCbF3IMPRYXT"
      }
    },
    {
      "cell_type": "code",
      "source": [
        "df_ordem_compra.head(n=10)"
      ],
      "outputs": [],
      "execution_count": null,
      "metadata": {
        "id": "NG6unPNRQ84r"
      }
    },
    {
      "cell_type": "markdown",
      "source": [
        "#### MODIFICANDO A ESTRUTURA DE ARQUIVO"
      ],
      "metadata": {
        "id": "n1WQBbl0Tf8R"
      }
    },
    {
      "cell_type": "markdown",
      "source": [
        "##### EXEMPLO 1: ALTERANDO O TIPO DE DADO DE UMA(S) COLUNA(S)"
      ],
      "metadata": {
        "id": "5q8DGb7uR-4B"
      }
    },
    {
      "cell_type": "code",
      "source": [
        "df_ordem_compra['order_id'] = df_ordem_compra['order_id'].astype('string')\n",
        "df_ordem_compra['customer_id'] = df_ordem_compra['customer_id'].astype('string')\n",
        "df_ordem_compra['order_status'] = df_ordem_compra['order_status'].astype('string')\n",
        "df_ordem_compra['order_purchase_timestamp'] = df_ordem_compra['order_purchase_timestamp'].astype('datetime64')\n",
        "df_ordem_compra['order_approved_at'] = df_ordem_compra['order_approved_at'].astype('datetime64')\n",
        "df_ordem_compra['order_delivered_carrier_date'] = df_ordem_compra['order_delivered_carrier_date'].astype('datetime64')\n",
        "df_ordem_compra['order_delivered_customer_date'] = df_ordem_compra['order_delivered_customer_date'].astype('datetime64')\n",
        "df_ordem_compra['order_estimated_delivery_date'] = df_ordem_compra['order_estimated_delivery_date'].astype('datetime64')\n"
      ],
      "outputs": [],
      "execution_count": null,
      "metadata": {
        "id": "ur7cZ6riR9wz"
      }
    },
    {
      "cell_type": "markdown",
      "source": [
        "###### VALIDANDO AS ALTERAÇÕES"
      ],
      "metadata": {
        "id": "r7ZxORP2Scqo"
      }
    },
    {
      "cell_type": "markdown",
      "source": [
        "###### EXIBINDO AS ALTERAÇÕES NOS METADADOS"
      ],
      "metadata": {
        "id": "r8YoNLWVSiJZ"
      }
    },
    {
      "cell_type": "code",
      "source": [
        "df_ordem_compra.info()"
      ],
      "outputs": [],
      "execution_count": null,
      "metadata": {
        "id": "Wmlmr91WSY9q"
      }
    },
    {
      "cell_type": "markdown",
      "source": [
        "###### EXIBINDO UMA AMOSTRA DO ARQUIVO"
      ],
      "metadata": {
        "id": "7glgidynSnd5"
      }
    },
    {
      "cell_type": "code",
      "source": [
        "df_ordem_compra.head(10)"
      ],
      "outputs": [],
      "execution_count": null,
      "metadata": {
        "id": "PdFZTvoBSfOx"
      }
    },
    {
      "cell_type": "markdown",
      "source": [
        "##### EXEMPLO 2: ALTERANDO O SCHEMA DO ARQUIVO USANDO UM DICIONÁRIO"
      ],
      "metadata": {
        "id": "-cL-b37YUCm4"
      }
    },
    {
      "cell_type": "code",
      "source": [
        "schema_ordem_compra = {\n",
        "    \"order_id\" : \"string\",\n",
        "    \"customer_id\" : \"string\",\n",
        "    \"order_status\" : \"string\",\n",
        "    \"order_purchase_timestamp\" : \"datetime64\",\n",
        "    \"order_approved_at\" : \"datetime64\",\n",
        "    \"order_delivered_carrier_date\" : \"datetime64\",\n",
        "    \"order_delivered_customer_date\" : \"datetime64\",\n",
        "    \"order_estimated_delivery_date\" : \"datetime64\"\n",
        "}"
      ],
      "outputs": [],
      "execution_count": null,
      "metadata": {
        "id": "04wd1JTUSgnL"
      }
    },
    {
      "cell_type": "code",
      "source": [
        "df_ordem_compra = df_ordem_compra.astype(schema_ordem_compra)"
      ],
      "outputs": [],
      "execution_count": null,
      "metadata": {
        "id": "bf7guXrOUPfR"
      }
    },
    {
      "cell_type": "markdown",
      "source": [
        "###### VALIDANDO AS ALTERAÇÕES"
      ],
      "metadata": {
        "id": "jHbIfV3gUN7X"
      }
    },
    {
      "cell_type": "code",
      "source": [
        "df_ordem_compra.info()"
      ],
      "outputs": [],
      "execution_count": null,
      "metadata": {
        "id": "IP5U9McvUUzI"
      }
    },
    {
      "cell_type": "markdown",
      "source": [],
      "metadata": {
        "id": "-Jxb9qm2UX3x"
      }
    },
    {
      "cell_type": "markdown",
      "source": [
        "###### EXIBINDO UMA AMOSTRA DO ARQUIVO"
      ],
      "metadata": {
        "id": "GkyYOx9EUcDI"
      }
    },
    {
      "cell_type": "code",
      "source": [
        "df_ordem_compra.head(10)"
      ],
      "outputs": [],
      "execution_count": null,
      "metadata": {
        "id": "buAT35VUUbgT"
      }
    },
    {
      "cell_type": "markdown",
      "source": [
        "#### MANIPULAÇÃO NO(S) ARQUIVO(S)"
      ],
      "metadata": {
        "id": "XuWME-F2Un6p"
      }
    },
    {
      "cell_type": "markdown",
      "source": [
        "##### IDENTIFICANDO A QUANTIDADE DE COMPRAS"
      ],
      "metadata": {
        "id": "nx6Rb0uoVfNP"
      }
    },
    {
      "cell_type": "code",
      "source": [
        "df_ordem_compra['order_id'].count()"
      ],
      "outputs": [],
      "execution_count": null,
      "metadata": {
        "id": "Rn3xfgKPUqhC"
      }
    },
    {
      "cell_type": "markdown",
      "source": [
        "##### IDENTIFICANDO A QUANTIDADE DISTINTA DE USUÁRIOS"
      ],
      "metadata": {
        "id": "LWIrZh1rVox_"
      }
    },
    {
      "cell_type": "code",
      "source": [
        "df_ordem_compra['customer_id'].nunique()"
      ],
      "outputs": [],
      "execution_count": null,
      "metadata": {
        "id": "GFn3JNK4U5hh"
      }
    },
    {
      "cell_type": "markdown",
      "source": [
        "##### IDENTIFICANDO A ORDEM DE COMPRA MAIS ANTIGA E MAIS RECENTE"
      ],
      "metadata": {
        "id": "2FXhqaLIWDNf"
      }
    },
    {
      "cell_type": "markdown",
      "source": [
        "##### EXEMPLO 1: USANDO NUMPY E AGGREGATE"
      ],
      "metadata": {
        "id": "vlDkxyNbXyXO"
      }
    },
    {
      "cell_type": "code",
      "source": [
        "df_ordem_compra.agg({'order_purchase_timestamp' : [np.min, np.max]})"
      ],
      "outputs": [],
      "execution_count": null,
      "metadata": {
        "id": "ElVDkp-7VuoX"
      }
    },
    {
      "cell_type": "markdown",
      "source": [
        "##### EXEMPLO 2: USANDO MIN E MAX SEPARADAMENTE"
      ],
      "metadata": {
        "id": "cVcdhZDXYF0I"
      }
    },
    {
      "cell_type": "code",
      "source": [
        "df_ordem_compra['order_purchase_timestamp'].min() # OU min(df_ordem_compra['order_purchase_timestamp'])"
      ],
      "outputs": [],
      "execution_count": null,
      "metadata": {
        "id": "gHMAKcwqWRY4"
      }
    },
    {
      "cell_type": "code",
      "source": [
        "df_ordem_compra['order_purchase_timestamp'].max() # OU max(df_ordem_compra['order_purchase_timestamp'])"
      ],
      "outputs": [],
      "execution_count": null,
      "metadata": {
        "id": "iRoVjp3EYLxl"
      }
    },
    {
      "cell_type": "markdown",
      "source": [
        "##### EXEMPLO 3: USANDO A FUNÇÃO DESCRIBE"
      ],
      "metadata": {
        "id": "197LynpdnNZW"
      }
    },
    {
      "cell_type": "code",
      "source": [
        "df_ordem_compra.describe()"
      ],
      "outputs": [],
      "execution_count": null,
      "metadata": {
        "id": "rYpTQQmCnP3X"
      }
    },
    {
      "cell_type": "markdown",
      "source": [
        "##### ANALISANDO A DISTRIBUIÇÃO DE COMPRAS POR ANO/MÊS (GRÁFICO DE BARRAS)"
      ],
      "metadata": {
        "id": "ja3c3aLFcNNM"
      }
    },
    {
      "cell_type": "code",
      "source": [
        "df_ordem_compra[['order_id']] \\\n",
        "  .groupby([df_ordem_compra['order_purchase_timestamp'].dt.year, df_ordem_compra['order_purchase_timestamp'].dt.month]) \\\n",
        "  .agg(['count']).rename(columns={'order_id' : 'compras'}) \\\n",
        "  .plot(xlabel = 'Ano/Mês', ylabel='Compras', title='Compras por ano', color=\"green\", kind='bar')"
      ],
      "outputs": [],
      "execution_count": null,
      "metadata": {
        "id": "-LBY04_dYE83"
      }
    },
    {
      "cell_type": "markdown",
      "source": [
        "#### GRAVANDO UM ARQUIVO USANDO O MÉTODO PANDAS"
      ],
      "metadata": {
        "id": "Sdikodrxn2Cl"
      }
    },
    {
      "cell_type": "markdown",
      "source": [
        "### LEITURA DOS ARQUIVOS (USANDO PYTHON/SPARK)"
      ],
      "metadata": {
        "id": "Z5Ohy1AVg1cK"
      }
    },
    {
      "cell_type": "markdown",
      "source": [
        "#### CRIAÇÃO DA APLICAÇÃO SPARK"
      ],
      "metadata": {
        "id": "fiJJFizVg8Fl"
      }
    },
    {
      "cell_type": "code",
      "source": [
        "spark = SparkSession.builder.getOrCreate() # Constroi (ou obtem de um ambiente criado) uma aplicação\n",
        "sqlcontext = SQLContext(spark)                     # Cria um contexto Spark para trabalhar com funções SQL\n",
        "sparkcontext = spark.sparkContext          # Cria um contexto Spark para manipular dados de forma distribuiída"
      ],
      "outputs": [
        {
          "output_type": "stream",
          "name": "stderr",
          "text": "WARNING: An illegal reflective access operation has occurred\nWARNING: Illegal reflective access by org.apache.spark.unsafe.Platform (file:/anaconda/envs/azureml_py38/lib/python3.8/site-packages/pyspark/jars/spark-unsafe_2.12-3.2.1.jar) to constructor java.nio.DirectByteBuffer(long,int)\nWARNING: Please consider reporting this to the maintainers of org.apache.spark.unsafe.Platform\nWARNING: Use --illegal-access=warn to enable warnings of further illegal reflective access operations\nWARNING: All illegal access operations will be denied in a future release\n/anaconda/envs/azureml_py38/lib/python3.8/site-packages/pyspark/sql/context.py:77: FutureWarning: Deprecated in 3.0.0. Use SparkSession.builder.getOrCreate() instead.\n  warnings.warn(\n"
        }
      ],
      "execution_count": 13,
      "metadata": {
        "id": "9FX1LWwbg5WO",
        "gather": {
          "logged": 1657064571752
        }
      }
    },
    {
      "cell_type": "code",
      "source": [
        "dfs_ordem_compra = spark.read.csv(nome_arquivo_ordem_compra, header=True, inferSchema=True)\r\n",
        "dfs_ordem_reviews = spark.read.csv(nome_arquivo_ordem_reviews, header=True, inferSchema=True)\r\n",
        "dfs_clientes = spark.read.csv(nome_arquivo_clientes, header=True, inferSchema=True)"
      ],
      "outputs": [
        {
          "output_type": "stream",
          "name": "stderr",
          "text": "                                                                                \r"
        }
      ],
      "execution_count": 14,
      "metadata": {
        "id": "UcCFuIjlhOZR",
        "gather": {
          "logged": 1657065405995
        }
      }
    },
    {
      "cell_type": "markdown",
      "source": [
        "#### EXIBINDO AS COLUNAS DOS ARQUIVOS"
      ],
      "metadata": {
        "id": "OFElAIxmhX-M"
      }
    },
    {
      "cell_type": "code",
      "source": [
        "dfs_ordem_compra.columns"
      ],
      "outputs": [
        {
          "output_type": "execute_result",
          "execution_count": 15,
          "data": {
            "text/plain": "['order_id',\n 'customer_id',\n 'order_status',\n 'order_purchase_timestamp',\n 'order_approved_at',\n 'order_delivered_carrier_date',\n 'order_delivered_customer_date',\n 'order_estimated_delivery_date']"
          },
          "metadata": {}
        }
      ],
      "execution_count": 15,
      "metadata": {
        "id": "JX_yuj9QhT_y",
        "gather": {
          "logged": 1657065418558
        }
      }
    },
    {
      "cell_type": "code",
      "source": [
        "dfs_ordem_reviews.columns"
      ],
      "outputs": [
        {
          "output_type": "execute_result",
          "execution_count": 16,
          "data": {
            "text/plain": "['review_id',\n 'order_id',\n 'review_score',\n 'review_comment_title',\n 'review_comment_message',\n 'review_creation_date',\n 'review_answer_timestamp']"
          },
          "metadata": {}
        }
      ],
      "execution_count": 16,
      "metadata": {
        "jupyter": {
          "source_hidden": false,
          "outputs_hidden": false
        },
        "nteract": {
          "transient": {
            "deleting": false
          }
        },
        "gather": {
          "logged": 1657065450517
        }
      }
    },
    {
      "cell_type": "code",
      "source": [
        "dfs_clientes.columns"
      ],
      "outputs": [
        {
          "output_type": "execute_result",
          "execution_count": 17,
          "data": {
            "text/plain": "['customer_id',\n 'customer_unique_id',\n 'customer_zip_code_prefix',\n 'customer_city',\n 'customer_state']"
          },
          "metadata": {}
        }
      ],
      "execution_count": 17,
      "metadata": {
        "jupyter": {
          "source_hidden": false,
          "outputs_hidden": false
        },
        "nteract": {
          "transient": {
            "deleting": false
          }
        },
        "gather": {
          "logged": 1657065468107
        }
      }
    },
    {
      "cell_type": "markdown",
      "source": [
        "#### EXIBINDO OS METADADOS DO ARQUIVO"
      ],
      "metadata": {
        "id": "-_Ze1NLyhZYZ"
      }
    },
    {
      "cell_type": "code",
      "source": [
        "dfs_ordem_compra.summary().show()"
      ],
      "outputs": [
        {
          "output_type": "stream",
          "name": "stderr",
          "text": "[Stage 6:=============================>                             (1 + 1) / 2]\r"
        },
        {
          "output_type": "stream",
          "name": "stdout",
          "text": "+-------+--------------------+--------------------+------------+------------------------+-------------------+----------------------------+-----------------------------+-----------------------------+\n|summary|            order_id|         customer_id|order_status|order_purchase_timestamp|  order_approved_at|order_delivered_carrier_date|order_delivered_customer_date|order_estimated_delivery_date|\n+-------+--------------------+--------------------+------------+------------------------+-------------------+----------------------------+-----------------------------+-----------------------------+\n|  count|               99441|               99441|       99441|                   99441|              99281|                       97658|                        96476|                        99441|\n|   mean|                null|                null|        null|                    null|               null|                        null|                         null|                         null|\n| stddev|                null|                null|        null|                    null|               null|                        null|                         null|                         null|\n|    min|00010242fe8c5a6d1...|00012a2ce6f8dcda2...|    approved|     2016-09-04 21:15:19|2016-09-15 12:16:38|         2016-10-08 10:34:01|          2016-10-11 13:46:32|          2016-09-30 00:00:00|\n|    25%|                null|                null|        null|                    null|               null|                        null|                         null|                         null|\n|    50%|                null|                null|        null|                    null|               null|                        null|                         null|                         null|\n|    75%|                null|                null|        null|                    null|               null|                        null|                         null|                         null|\n|    max|fffe41c64501cc87c...|ffffe8b65bbe3087b...| unavailable|     2018-10-17 17:30:18|2018-09-03 17:40:06|         2018-09-11 19:48:28|          2018-10-17 13:22:46|          2018-11-12 00:00:00|\n+-------+--------------------+--------------------+------------+------------------------+-------------------+----------------------------+-----------------------------+-----------------------------+\n\n"
        }
      ],
      "execution_count": 18,
      "metadata": {
        "id": "X1adCYydhany",
        "gather": {
          "logged": 1657065560983
        }
      }
    },
    {
      "cell_type": "code",
      "source": [
        "dfs_ordem_reviews.summary().show()"
      ],
      "outputs": [
        {
          "output_type": "stream",
          "name": "stderr",
          "text": "[Stage 12:=============================>                            (1 + 1) / 2]\r"
        },
        {
          "output_type": "stream",
          "name": "stdout",
          "text": "+-------+------------------+--------------------+--------------------+--------------------+----------------------+--------------------+-----------------------+\n|summary|         review_id|            order_id|        review_score|review_comment_title|review_comment_message|review_creation_date|review_answer_timestamp|\n+-------+------------------+--------------------+--------------------+--------------------+----------------------+--------------------+-----------------------+\n|  count|            105188|              102859|              102692|               12176|                 41868|               96025|                  96002|\n|   mean|               4.5|                 0.0|   4.071667849964501|3.155449396525236...|  1.111111111111111...|                null|                   null|\n| stddev|0.7071067811865476|                 0.0|  1.3866488774346788|5.616554832455847E11|              Infinity|                null|                   null|\n|    min|                 \"|                    |                   \"|                    |                      | FOI A MINHA PRIM...|    POIS NÃO CUMPREM...|\n|    25%|               4.0|                 0.0|                 4.0|                 5.0|                   8.0|                null|                   null|\n|    50%|               4.0|                 0.0|                 5.0|                10.0|                  10.0|                null|                   null|\n|    75%|               5.0|                 0.0|                 5.0|                10.0|                  10.0|                null|                   null|\n|    max|     🤙🏼👏🏼👏🏼\"|visando sempre o ...|seria mais coeren...|                 🔟 |  😡😡😡😡😡👎👎👎👎👎|veio bem embalada...|              70 + R$15|\n+-------+------------------+--------------------+--------------------+--------------------+----------------------+--------------------+-----------------------+\n\n"
        }
      ],
      "execution_count": 22,
      "metadata": {
        "jupyter": {
          "source_hidden": false,
          "outputs_hidden": false
        },
        "nteract": {
          "transient": {
            "deleting": false
          }
        },
        "gather": {
          "logged": 1657065675768
        }
      }
    },
    {
      "cell_type": "code",
      "source": [
        "dfs_clientes.summary().show()"
      ],
      "outputs": [
        {
          "output_type": "stream",
          "name": "stderr",
          "text": "[Stage 15:=============================>                            (1 + 1) / 2]\r"
        },
        {
          "output_type": "stream",
          "name": "stdout",
          "text": "+-------+--------------------+--------------------+------------------------+-------------------+--------------+\n|summary|         customer_id|  customer_unique_id|customer_zip_code_prefix|      customer_city|customer_state|\n+-------+--------------------+--------------------+------------------------+-------------------+--------------+\n|  count|               99441|               99441|                   99441|              99441|         99441|\n|   mean|                null|                null|       35137.47458291851|               null|          null|\n| stddev|                null|                null|      29797.938996206158|               null|          null|\n|    min|00012a2ce6f8dcda2...|0000366f3b9a7992b...|                    1003|abadia dos dourados|            AC|\n|    25%|                null|                null|                   11347|               null|          null|\n|    50%|                null|                null|                   24416|               null|          null|\n|    75%|                null|                null|                   58884|               null|          null|\n|    max|ffffe8b65bbe3087b...|ffffd2657e2aad290...|                   99990|             zortea|            TO|\n+-------+--------------------+--------------------+------------------------+-------------------+--------------+\n\n"
        }
      ],
      "execution_count": 23,
      "metadata": {
        "jupyter": {
          "source_hidden": false,
          "outputs_hidden": false
        },
        "nteract": {
          "transient": {
            "deleting": false
          }
        },
        "gather": {
          "logged": 1657065679453
        }
      }
    },
    {
      "cell_type": "markdown",
      "source": [
        "#### EXIBINDO UMA AMOSTRA DO ARQUIVO"
      ],
      "metadata": {
        "id": "9fYM-U9Bha7N"
      }
    },
    {
      "cell_type": "code",
      "source": [
        "dfs_ordem_compra.show(n=5)"
      ],
      "outputs": [
        {
          "output_type": "stream",
          "name": "stdout",
          "text": "+--------------------+--------------------+------------+------------------------+-------------------+----------------------------+-----------------------------+-----------------------------+\n|            order_id|         customer_id|order_status|order_purchase_timestamp|  order_approved_at|order_delivered_carrier_date|order_delivered_customer_date|order_estimated_delivery_date|\n+--------------------+--------------------+------------+------------------------+-------------------+----------------------------+-----------------------------+-----------------------------+\n|e481f51cbdc54678b...|9ef432eb625129730...|   delivered|     2017-10-02 10:56:33|2017-10-02 11:07:15|         2017-10-04 19:55:00|          2017-10-10 21:25:13|          2017-10-18 00:00:00|\n|53cdb2fc8bc7dce0b...|b0830fb4747a6c6d2...|   delivered|     2018-07-24 20:41:37|2018-07-26 03:24:27|         2018-07-26 14:31:00|          2018-08-07 15:27:45|          2018-08-13 00:00:00|\n|47770eb9100c2d0c4...|41ce2a54c0b03bf34...|   delivered|     2018-08-08 08:38:49|2018-08-08 08:55:23|         2018-08-08 13:50:00|          2018-08-17 18:06:29|          2018-09-04 00:00:00|\n|949d5b44dbf5de918...|f88197465ea7920ad...|   delivered|     2017-11-18 19:28:06|2017-11-18 19:45:59|         2017-11-22 13:39:59|          2017-12-02 00:28:42|          2017-12-15 00:00:00|\n|ad21c59c0840e6cb8...|8ab97904e6daea886...|   delivered|     2018-02-13 21:18:39|2018-02-13 22:20:29|         2018-02-14 19:46:34|          2018-02-16 18:17:02|          2018-02-26 00:00:00|\n+--------------------+--------------------+------------+------------------------+-------------------+----------------------------+-----------------------------+-----------------------------+\nonly showing top 5 rows\n\n"
        }
      ],
      "execution_count": 19,
      "metadata": {
        "id": "aqXcjLf0jYzR",
        "gather": {
          "logged": 1657065620289
        }
      }
    },
    {
      "cell_type": "code",
      "source": [
        "dfs_ordem_reviews.show(n=5)"
      ],
      "outputs": [
        {
          "output_type": "stream",
          "name": "stdout",
          "text": "+--------------------+--------------------+------------+--------------------+----------------------+--------------------+-----------------------+\n|           review_id|            order_id|review_score|review_comment_title|review_comment_message|review_creation_date|review_answer_timestamp|\n+--------------------+--------------------+------------+--------------------+----------------------+--------------------+-----------------------+\n|7bc2406110b926393...|73fc7af87114b3971...|           4|                null|                  null| 2018-01-18 00:00:00|    2018-01-18 21:46:59|\n|80e641a11e56f04c1...|a548910a1c6147796...|           5|                null|                  null| 2018-03-10 00:00:00|    2018-03-11 03:05:13|\n|228ce5500dc1d8e02...|f9e4b658b201a9f2e...|           5|                null|                  null| 2018-02-17 00:00:00|    2018-02-18 14:36:24|\n|e64fb393e7b32834b...|658677c97b385a9be...|           5|                null|  Recebi bem antes ...| 2017-04-21 00:00:00|    2017-04-21 22:02:06|\n|f7c4243c7fe1938f1...|8e6bfb81e283fa7e4...|           5|                null|  Parabéns lojas la...| 2018-03-01 00:00:00|    2018-03-02 10:26:53|\n+--------------------+--------------------+------------+--------------------+----------------------+--------------------+-----------------------+\nonly showing top 5 rows\n\n"
        }
      ],
      "execution_count": 20,
      "metadata": {
        "jupyter": {
          "source_hidden": false,
          "outputs_hidden": false
        },
        "nteract": {
          "transient": {
            "deleting": false
          }
        },
        "gather": {
          "logged": 1657065627535
        }
      }
    },
    {
      "cell_type": "code",
      "source": [
        "dfs_clientes.show(n=5)"
      ],
      "outputs": [
        {
          "output_type": "stream",
          "name": "stdout",
          "text": "+--------------------+--------------------+------------------------+--------------------+--------------+\n|         customer_id|  customer_unique_id|customer_zip_code_prefix|       customer_city|customer_state|\n+--------------------+--------------------+------------------------+--------------------+--------------+\n|06b8999e2fba1a1fb...|861eff4711a542e4b...|                   14409|              franca|            SP|\n|18955e83d337fd6b2...|290c77bc529b7ac93...|                    9790|sao bernardo do c...|            SP|\n|4e7b3e00288586ebd...|060e732b5b29e8181...|                    1151|           sao paulo|            SP|\n|b2b6027bc5c5109e5...|259dac757896d24d7...|                    8775|     mogi das cruzes|            SP|\n|4f2d8ab171c80ec83...|345ecd01c38d18a90...|                   13056|            campinas|            SP|\n+--------------------+--------------------+------------------------+--------------------+--------------+\nonly showing top 5 rows\n\n"
        }
      ],
      "execution_count": 21,
      "metadata": {
        "jupyter": {
          "source_hidden": false,
          "outputs_hidden": false
        },
        "nteract": {
          "transient": {
            "deleting": false
          }
        },
        "gather": {
          "logged": 1657065630222
        }
      }
    },
    {
      "cell_type": "markdown",
      "source": [
        "#### EXIBINDO O SCHEMA DOS DADOS"
      ],
      "metadata": {
        "id": "xALIOVK9j9pm"
      }
    },
    {
      "cell_type": "code",
      "source": [
        "dfs_ordem_compra.printSchema()"
      ],
      "outputs": [],
      "execution_count": null,
      "metadata": {
        "jupyter": {
          "source_hidden": false,
          "outputs_hidden": false
        },
        "nteract": {
          "transient": {
            "deleting": false
          }
        }
      }
    },
    {
      "cell_type": "code",
      "source": [
        "dfs_ordem_reviews.printSchema()"
      ],
      "outputs": [],
      "execution_count": null,
      "metadata": {
        "jupyter": {
          "source_hidden": false,
          "outputs_hidden": false
        },
        "nteract": {
          "transient": {
            "deleting": false
          }
        }
      }
    },
    {
      "cell_type": "code",
      "source": [
        "dfs_clientes.printSchema()"
      ],
      "outputs": [],
      "execution_count": null,
      "metadata": {
        "jupyter": {
          "source_hidden": false,
          "outputs_hidden": false
        },
        "nteract": {
          "transient": {
            "deleting": false
          }
        }
      }
    },
    {
      "cell_type": "markdown",
      "source": [
        "#### CRIAR UMA VISÃO PARA TRABALHAR COM DATAFRAMES USANDO LINGUAGEM SQL"
      ],
      "metadata": {
        "id": "2hDvP5uPmLrV"
      }
    },
    {
      "cell_type": "code",
      "source": [
        "dfs_ordem_reviews.createOrReplaceTempView('OrdemReviewTemp')"
      ],
      "outputs": [],
      "execution_count": 32,
      "metadata": {
        "id": "9U5EiGaUmQmR",
        "gather": {
          "logged": 1657066885403
        }
      }
    },
    {
      "cell_type": "code",
      "source": [
        "dfs_ordem_compra.createOrReplaceTempView('OrdemCompraTemp')"
      ],
      "outputs": [],
      "execution_count": 33,
      "metadata": {
        "jupyter": {
          "source_hidden": false,
          "outputs_hidden": false
        },
        "nteract": {
          "transient": {
            "deleting": false
          }
        },
        "gather": {
          "logged": 1657066888010
        }
      }
    },
    {
      "cell_type": "code",
      "source": [
        "dfs_clientes.createOrReplaceTempView('OrdemClientesTemp')"
      ],
      "outputs": [],
      "execution_count": 35,
      "metadata": {
        "jupyter": {
          "source_hidden": false,
          "outputs_hidden": false
        },
        "nteract": {
          "transient": {
            "deleting": false
          }
        },
        "gather": {
          "logged": 1657066893750
        }
      }
    },
    {
      "cell_type": "code",
      "source": [
        "resultado1 = sqlcontext.sql(\"\"\"\n",
        "SELECT *\n",
        "FROM  OrdemReviewTemp\n",
        "\"\"\")"
      ],
      "outputs": [],
      "execution_count": 40,
      "metadata": {
        "id": "HzKti5i8mVIB",
        "gather": {
          "logged": 1657067211745
        }
      }
    },
    {
      "cell_type": "code",
      "source": [
        "resultado1.show(3)"
      ],
      "outputs": [
        {
          "output_type": "stream",
          "name": "stdout",
          "text": "+--------------------+--------------------+------------+--------------------+----------------------+--------------------+-----------------------+\n|           review_id|            order_id|review_score|review_comment_title|review_comment_message|review_creation_date|review_answer_timestamp|\n+--------------------+--------------------+------------+--------------------+----------------------+--------------------+-----------------------+\n|7bc2406110b926393...|73fc7af87114b3971...|           4|                null|                  null| 2018-01-18 00:00:00|    2018-01-18 21:46:59|\n|80e641a11e56f04c1...|a548910a1c6147796...|           5|                null|                  null| 2018-03-10 00:00:00|    2018-03-11 03:05:13|\n|228ce5500dc1d8e02...|f9e4b658b201a9f2e...|           5|                null|                  null| 2018-02-17 00:00:00|    2018-02-18 14:36:24|\n+--------------------+--------------------+------------+--------------------+----------------------+--------------------+-----------------------+\nonly showing top 3 rows\n\n"
        }
      ],
      "execution_count": 46,
      "metadata": {
        "id": "niFNjXVWmU-i",
        "gather": {
          "logged": 1657067455947
        }
      }
    },
    {
      "cell_type": "code",
      "source": [
        "resultado2 = sqlcontext.sql(\"\"\"\r\n",
        "SELECT *\r\n",
        "FROM  OrdemCompraTemp\r\n",
        "\"\"\")"
      ],
      "outputs": [],
      "execution_count": 42,
      "metadata": {
        "jupyter": {
          "source_hidden": false,
          "outputs_hidden": false
        },
        "nteract": {
          "transient": {
            "deleting": false
          }
        },
        "gather": {
          "logged": 1657067262410
        }
      }
    },
    {
      "cell_type": "code",
      "source": [
        "resultado2.show(3)"
      ],
      "outputs": [
        {
          "output_type": "stream",
          "name": "stdout",
          "text": "+--------------------+--------------------+------------+------------------------+-------------------+----------------------------+-----------------------------+-----------------------------+\n|            order_id|         customer_id|order_status|order_purchase_timestamp|  order_approved_at|order_delivered_carrier_date|order_delivered_customer_date|order_estimated_delivery_date|\n+--------------------+--------------------+------------+------------------------+-------------------+----------------------------+-----------------------------+-----------------------------+\n|e481f51cbdc54678b...|9ef432eb625129730...|   delivered|     2017-10-02 10:56:33|2017-10-02 11:07:15|         2017-10-04 19:55:00|          2017-10-10 21:25:13|          2017-10-18 00:00:00|\n|53cdb2fc8bc7dce0b...|b0830fb4747a6c6d2...|   delivered|     2018-07-24 20:41:37|2018-07-26 03:24:27|         2018-07-26 14:31:00|          2018-08-07 15:27:45|          2018-08-13 00:00:00|\n|47770eb9100c2d0c4...|41ce2a54c0b03bf34...|   delivered|     2018-08-08 08:38:49|2018-08-08 08:55:23|         2018-08-08 13:50:00|          2018-08-17 18:06:29|          2018-09-04 00:00:00|\n+--------------------+--------------------+------------+------------------------+-------------------+----------------------------+-----------------------------+-----------------------------+\nonly showing top 3 rows\n\n"
        }
      ],
      "execution_count": 48,
      "metadata": {
        "jupyter": {
          "source_hidden": false,
          "outputs_hidden": false
        },
        "nteract": {
          "transient": {
            "deleting": false
          }
        },
        "gather": {
          "logged": 1657067498416
        }
      }
    },
    {
      "cell_type": "code",
      "source": [
        "resultado3 = sqlcontext.sql(\"\"\"\r\n",
        "SELECT *\r\n",
        "FROM  OrdemClientesTemp\r\n",
        "\"\"\")"
      ],
      "outputs": [],
      "execution_count": 44,
      "metadata": {
        "jupyter": {
          "source_hidden": false,
          "outputs_hidden": false
        },
        "nteract": {
          "transient": {
            "deleting": false
          }
        },
        "gather": {
          "logged": 1657067311033
        }
      }
    },
    {
      "cell_type": "code",
      "source": [
        "resultado3.show(3)"
      ],
      "outputs": [
        {
          "output_type": "stream",
          "name": "stdout",
          "text": "+--------------------+--------------------+------------------------+--------------------+--------------+\n|         customer_id|  customer_unique_id|customer_zip_code_prefix|       customer_city|customer_state|\n+--------------------+--------------------+------------------------+--------------------+--------------+\n|06b8999e2fba1a1fb...|861eff4711a542e4b...|                   14409|              franca|            SP|\n|18955e83d337fd6b2...|290c77bc529b7ac93...|                    9790|sao bernardo do c...|            SP|\n|4e7b3e00288586ebd...|060e732b5b29e8181...|                    1151|           sao paulo|            SP|\n+--------------------+--------------------+------------------------+--------------------+--------------+\nonly showing top 3 rows\n\n"
        }
      ],
      "execution_count": 47,
      "metadata": {
        "jupyter": {
          "source_hidden": false,
          "outputs_hidden": false
        },
        "nteract": {
          "transient": {
            "deleting": false
          }
        },
        "gather": {
          "logged": 1657067493321
        }
      }
    },
    {
      "cell_type": "code",
      "source": [
        "#Consulta, media e total de nota por Estados\r\n",
        "resultado4 = sqlcontext.sql(\"\"\"\r\n",
        "SELECT \r\n",
        "    AVG(review_score), COUNT(review_id), customer_state\r\n",
        "FROM  \r\n",
        "    OrdemReviewTemp \r\n",
        "INNER JOIN \r\n",
        "    OrdemCompraTemp\r\n",
        "ON OrdemReviewTemp.order_id = OrdemCompraTemp.order_id\r\n",
        "INNER JOIN \r\n",
        "    OrdemClientesTemp\r\n",
        "ON OrdemCompraTemp.customer_id = OrdemClientesTemp.customer_id\r\n",
        "GROUP BY customer_state\r\n",
        "\"\"\")"
      ],
      "outputs": [],
      "execution_count": 61,
      "metadata": {
        "jupyter": {
          "source_hidden": false,
          "outputs_hidden": false
        },
        "nteract": {
          "transient": {
            "deleting": false
          }
        },
        "gather": {
          "logged": 1657068911626
        }
      }
    },
    {
      "cell_type": "code",
      "source": [
        "resultado4.show()"
      ],
      "outputs": [
        {
          "output_type": "stream",
          "name": "stdout",
          "text": "+------------------+----------------+--------------+\n| avg(review_score)|count(review_id)|customer_state|\n+------------------+----------------+--------------+\n| 4.055875102711586|            3651|            SC|\n| 4.055335968379446|             253|            RO|\n| 3.907258064516129|             496|            PI|\n| 4.154362416107382|             149|            AM|\n| 3.608695652173913|              46|            RR|\n| 4.026018654884634|            2037|            GO|\n|               4.1|             280|            TO|\n| 4.087912087912088|             910|            MT|\n| 4.160578549812948|           41967|            SP|\n| 4.009789525208028|            2043|            ES|\n| 4.007448789571694|             537|            PB|\n| 4.125658253132377|            5507|            RS|\n| 4.115702479338843|             726|            MS|\n|3.7314148681055155|             417|            AL|\n| 4.121049034683068|           11706|            MG|\n| 3.827902240325866|             982|            PA|\n|3.8343143025309003|            3398|            BA|\n|               3.8|             350|            SE|\n|3.9933933933933936|            1665|            PE|\n|3.8379387602688575|            1339|            CE|\n+------------------+----------------+--------------+\nonly showing top 20 rows\n\n"
        }
      ],
      "execution_count": 62,
      "metadata": {
        "jupyter": {
          "source_hidden": false,
          "outputs_hidden": false
        },
        "nteract": {
          "transient": {
            "deleting": false
          }
        },
        "gather": {
          "logged": 1657068917535
        }
      }
    },
    {
      "cell_type": "markdown",
      "source": [
        "#### GRAVANDO UM ARQUIVO USANDO O SPARK"
      ],
      "metadata": {
        "id": "oKlOSUoBn51E"
      }
    },
    {
      "cell_type": "code",
      "source": [
        "dfs_ordem_compra.coalesce(1).write.mode(\"overwrite\").format(\"csv\").options(header=True, delimiter=\";\").save(\"pasta\")"
      ],
      "outputs": [],
      "execution_count": null,
      "metadata": {
        "id": "id-JxLSrn8Gv"
      }
    },
    {
      "cell_type": "markdown",
      "source": [
        "## ANÁLISE DE SENTIMENTOS"
      ],
      "metadata": {
        "id": "YDNCb6WikC00"
      }
    },
    {
      "cell_type": "markdown",
      "source": [
        "### DEFINIÇÃO DE PARÂMETROS PARA USAR A API"
      ],
      "metadata": {
        "id": "7p2vJFPSkXbO"
      }
    },
    {
      "cell_type": "code",
      "source": [
        "chave_api = \"7fb9a30163934e25a408db983ecae564\" # COLOQUE AQUI A SUA CHAVE\n",
        "endpoint_api = \"https://puc-txt-ia149820.cognitiveservices.azure.com/\" # COLOQUE AQUI O SEU ENDPOINT"
      ],
      "outputs": [],
      "execution_count": 63,
      "metadata": {
        "id": "IcuRRKSmkIjY",
        "gather": {
          "logged": 1657070467119
        }
      }
    },
    {
      "cell_type": "markdown",
      "source": [
        "### CRIAÇÃO DE FUNÇÃO PARA CHAMAR A API"
      ],
      "metadata": {
        "id": "8jcz9zcIkazo"
      }
    },
    {
      "cell_type": "code",
      "source": [
        "def criar_cliente():\n",
        "    criar_cliente_analise = TextAnalyticsClient(\n",
        "        endpoint=endpoint_api,\n",
        "        credential=AzureKeyCredential(chave_api)\n",
        "    )\n",
        "    return criar_cliente_analise"
      ],
      "outputs": [],
      "execution_count": 64,
      "metadata": {
        "id": "dk3yUC2TkdlH",
        "gather": {
          "logged": 1657070507038
        }
      }
    },
    {
      "cell_type": "markdown",
      "source": [
        "### FUNÇÃO PARA ANALISAR SENTIMENTOS"
      ],
      "metadata": {
        "id": "z6r28mXVkwWJ"
      }
    },
    {
      "cell_type": "code",
      "source": [
        "documento = [\"Eu odeio amar\", \"eu amo odiar\"]"
      ],
      "outputs": [],
      "execution_count": 70,
      "metadata": {
        "jupyter": {
          "source_hidden": false,
          "outputs_hidden": false
        },
        "nteract": {
          "transient": {
            "deleting": false
          }
        },
        "gather": {
          "logged": 1657071071496
        }
      }
    },
    {
      "cell_type": "code",
      "source": [
        "cliente = criar_cliente()"
      ],
      "outputs": [],
      "execution_count": 66,
      "metadata": {
        "jupyter": {
          "source_hidden": false,
          "outputs_hidden": false
        },
        "nteract": {
          "transient": {
            "deleting": false
          }
        },
        "gather": {
          "logged": 1657070734695
        }
      }
    },
    {
      "cell_type": "code",
      "source": [
        "cliente.analyze_sentiment(documento)"
      ],
      "outputs": [
        {
          "output_type": "execute_result",
          "execution_count": 71,
          "data": {
            "text/plain": "[AnalyzeSentimentResult(id=0, sentiment=negative, warnings=[], statistics=None, confidence_scores=SentimentConfidenceScores(positive=0.1, neutral=0.04, negative=0.87), sentences=[SentenceSentiment(text=Eu odeio amar, sentiment=negative, confidence_scores=SentimentConfidenceScores(positive=0.1, neutral=0.04, negative=0.87), length=13, offset=0, mined_opinions=[])], is_error=False),\n AnalyzeSentimentResult(id=1, sentiment=positive, warnings=[], statistics=None, confidence_scores=SentimentConfidenceScores(positive=0.51, neutral=0.03, negative=0.46), sentences=[SentenceSentiment(text=eu amo odiar, sentiment=positive, confidence_scores=SentimentConfidenceScores(positive=0.51, neutral=0.03, negative=0.46), length=12, offset=0, mined_opinions=[])], is_error=False)]"
          },
          "metadata": {}
        }
      ],
      "execution_count": 71,
      "metadata": {
        "jupyter": {
          "source_hidden": false,
          "outputs_hidden": false
        },
        "nteract": {
          "transient": {
            "deleting": false
          }
        },
        "gather": {
          "logged": 1657071073788
        }
      }
    },
    {
      "cell_type": "code",
      "source": [
        "def funcao_analisa_sentimentos(cliente, id, documento):\n",
        "    response = cliente.analyze_sentiment(documents=documento)[0]\n",
        "\n",
        "    df_resultado = sqlcontext.createDataFrame([( str(id), str(response.sentiment), str(response.confidence_scores.positive), str(response.confidence_scores.negative), str(response.confidence_scores.neutral))], (\"order_id\", \"sentimento\", \"score_positivo\",\"score_negativo\",\"score_neutro\"))\n",
        "    return df_resultado"
      ],
      "outputs": [],
      "execution_count": null,
      "metadata": {
        "id": "OjpANmNekvNT"
      }
    },
    {
      "cell_type": "markdown",
      "source": [
        "### FUNÇÃO PARA ARMAZENAR DADOS NO AZURE DATALAKE STORAGE GEN2"
      ],
      "metadata": {
        "id": "yFpsBIQImvWA"
      }
    },
    {
      "cell_type": "markdown",
      "source": [
        "#### VARIÁVEL COM A CADEIA DE CONEXÃO DO SERVIÇO AZURE STORAGE ACCOUNT"
      ],
      "metadata": {
        "id": "V-g2YKJ5nBOM"
      }
    },
    {
      "cell_type": "code",
      "source": [
        "endpoint_azure = \"\""
      ],
      "outputs": [],
      "execution_count": null,
      "metadata": {
        "id": "uvFxYBd0m4uV"
      }
    },
    {
      "cell_type": "code",
      "source": [
        "def carrega_arquivo_blob(local_destino, nome_arquivo, caminho_destino):\n",
        "    \n",
        "    # PARA BUSCAR O ENDPOINT DA SUA CONTA, ACESSE O SERVIÇO \"CONTAS DE ARMAZENAMENTO\"\n",
        "    # NO PAINEL A ESQUERDA, NO MENU \"SEGURANÇA + REDE\", SELECIONE A OPÇÃO \"CHAVES DE ACESSO\"\n",
        "    # CLIQUE EM \"MOSTRAR AS CHAVES\" E COPIE A CADEIA DE CONEXÃO DE UMA DAS CHAVES (1 OU 2)\n",
        "    # COLE TODA A INSTRUÇÃO COMO VALOR DA VARIÁVEL ABAIXO\n",
        "    conexao_blob = \"\"\n",
        "    blob_service_client = BlobServiceClient.from_connection_string(conexao_blob)\n",
        "    blob_client = blob_service_client.get_blob_client(container=local_destino, blob=nome_arquivo)\n",
        "    try:\n",
        "        with open(caminho_destino, \"rb\") as data:\n",
        "            blob_client.upload_blob(data, overwrite=True)\n",
        "            print(\"Arquivo carregado com sucesso\")\n",
        "    except NameError:\n",
        "        print(\"Erro\")"
      ],
      "outputs": [],
      "execution_count": null,
      "metadata": {
        "id": "ysiAoPhim292"
      }
    },
    {
      "cell_type": "code",
      "source": [
        "localdestino = \"\" # Mude para o nome do Contêiner da sua conta (Exemplo: datalake/raw-zone/olist_ecommerce/)\n",
        "caminho_pasta_local = \"orders_reviews\"\n",
        "arquivos = os.listdir(caminho_pasta_local)\n",
        "\n",
        "for arquivo_origem in arquivos:\n",
        "    if (arquivo_origem.endswith('.csv')):\n",
        "        caminho_destino = os.path.join(caminho_pasta_local, arquivo_origem)\n",
        "        arquivo = \"\"\n",
        "        carrega_arquivo_blob (localdestino, arquivo, caminho_destino)"
      ],
      "outputs": [],
      "execution_count": null,
      "metadata": {
        "id": "FkODMg57nNwf"
      }
    }
  ],
  "metadata": {
    "colab": {
      "name": "AULA_INTEGRAÇÃO_DE_DADOS_FEATURE_ENGINEERING.ipynb",
      "provenance": [],
      "toc_visible": true,
      "collapsed_sections": [
        "41Aa2mtwPd00",
        "pg45gZjCRdhL",
        "foxtJye0Rvs5",
        "QCbF3IMPRYXT",
        "n1WQBbl0Tf8R",
        "XuWME-F2Un6p",
        "Sdikodrxn2Cl",
        "fiJJFizVg8Fl",
        "OFElAIxmhX-M",
        "-_Ze1NLyhZYZ",
        "9fYM-U9Bha7N",
        "xALIOVK9j9pm",
        "2hDvP5uPmLrV",
        "oKlOSUoBn51E",
        "V-g2YKJ5nBOM"
      ]
    },
    "kernelspec": {
      "name": "python3",
      "language": "python",
      "display_name": "Python 3 (ipykernel)"
    },
    "language_info": {
      "name": "python",
      "version": "3.8.5",
      "mimetype": "text/x-python",
      "codemirror_mode": {
        "name": "ipython",
        "version": 3
      },
      "pygments_lexer": "ipython3",
      "nbconvert_exporter": "python",
      "file_extension": ".py"
    },
    "kernel_info": {
      "name": "python3"
    },
    "nteract": {
      "version": "nteract-front-end@1.0.0"
    }
  },
  "nbformat": 4,
  "nbformat_minor": 0
}