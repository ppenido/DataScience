{
 "cells": [
  {
   "cell_type": "code",
   "execution_count": 5,
   "metadata": {},
   "outputs": [
    {
     "name": "stdout",
     "output_type": "stream",
     "text": [
      "Amplitude:  4\n"
     ]
    }
   ],
   "source": [
    "def amplitude(x):\n",
    "    print(\"Amplitude: \", max(x)-min(x))\n",
    "\n",
    "lista1 = [1,2,3,4,5]\n",
    "amplitude(lista1)"
   ]
  },
  {
   "cell_type": "code",
   "execution_count": 8,
   "metadata": {},
   "outputs": [
    {
     "name": "stdout",
     "output_type": "stream",
     "text": [
      "P\n",
      "y\n",
      "t\n",
      "h\n",
      "o\n",
      "n\n"
     ]
    }
   ],
   "source": [
    "def imprime(x):\n",
    "    for i in range(0, len(x)):\n",
    "        print(x[i])\n",
    "\n",
    "x = \"Python\"\n",
    "imprime(x)"
   ]
  },
  {
   "cell_type": "code",
   "execution_count": 20,
   "metadata": {},
   "outputs": [
    {
     "ename": "SyntaxError",
     "evalue": "invalid syntax (<ipython-input-20-3ac6372d40c8>, line 9)",
     "output_type": "error",
     "traceback": [
      "\u001b[1;36m  File \u001b[1;32m\"<ipython-input-20-3ac6372d40c8>\"\u001b[1;36m, line \u001b[1;32m9\u001b[0m\n\u001b[1;33m    else\u001b[0m\n\u001b[1;37m        ^\u001b[0m\n\u001b[1;31mSyntaxError\u001b[0m\u001b[1;31m:\u001b[0m invalid syntax\n"
     ]
    }
   ],
   "source": [
    "print(\"Bem vindo a Balanca\")\n",
    "\n",
    "x = input(\"Digite o peso: \")\n",
    "x = int(x)\n",
    "if x<=10:\n",
    "    print(\"O valor é de 50 reais.\")\n",
    "elif x>10 and x<=20:\n",
    "    print(\"O valor é de 80 reais.\")\n",
    "else:\n",
    "    print(\"Peso exedido.\")"
   ]
  },
  {
   "cell_type": "code",
   "execution_count": null,
   "metadata": {},
   "outputs": [],
   "source": []
  }
 ],
 "metadata": {
  "kernelspec": {
   "display_name": "Python 3",
   "language": "python",
   "name": "python3"
  },
  "language_info": {
   "codemirror_mode": {
    "name": "ipython",
    "version": 3
   },
   "file_extension": ".py",
   "mimetype": "text/x-python",
   "name": "python",
   "nbconvert_exporter": "python",
   "pygments_lexer": "ipython3",
   "version": "3.8.5"
  }
 },
 "nbformat": 4,
 "nbformat_minor": 4
}
