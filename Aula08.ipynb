{
 "cells": [
  {
   "cell_type": "code",
   "execution_count": 8,
   "metadata": {},
   "outputs": [
    {
     "name": "stdout",
     "output_type": "stream",
     "text": [
      "200\n",
      "Maior valor:  45\n",
      "Menor valor:  1\n",
      "Soma:  108\n",
      "Arredondamento:  2.58\n"
     ]
    }
   ],
   "source": [
    "#funcoes padroes internas\n",
    "print(abs(-200))\n",
    "lista1 = [1,2,30,30,45]\n",
    "print(\"Maior valor: \", max(lista1))\n",
    "print(\"Menor valor: \", min(lista1))\n",
    "print(\"Soma: \", sum(lista1))\n",
    "print(\"Arredondamento: \", round(2.584,2))"
   ]
  },
  {
   "cell_type": "code",
   "execution_count": 9,
   "metadata": {},
   "outputs": [
    {
     "name": "stdout",
     "output_type": "stream",
     "text": [
      "Media:  21.6\n",
      "Mediana:  30\n",
      "Moda:  30\n"
     ]
    }
   ],
   "source": [
    "from statistics import *\n",
    "print(\"Media: \", mean(lista1))\n",
    "print(\"Mediana: \", median(lista1))\n",
    "print(\"Moda: \", mode(lista1))"
   ]
  },
  {
   "cell_type": "code",
   "execution_count": 10,
   "metadata": {},
   "outputs": [
    {
     "name": "stdout",
     "output_type": "stream",
     "text": [
      "Desvio padrao:  19.346834366376324\n"
     ]
    }
   ],
   "source": [
    "#exemplo desvio padrao\n",
    "print(\"Desvio padrao: \", stdev(lista1))"
   ]
  },
  {
   "cell_type": "code",
   "execution_count": 12,
   "metadata": {},
   "outputs": [
    {
     "name": "stdout",
     "output_type": "stream",
     "text": [
      "Variancia:  374.3\n"
     ]
    }
   ],
   "source": [
    "#exemplo Variancia\n",
    "print(\"Variancia: \", variance(lista1))"
   ]
  },
  {
   "cell_type": "code",
   "execution_count": 15,
   "metadata": {},
   "outputs": [
    {
     "name": "stdout",
     "output_type": "stream",
     "text": [
      "<class 'numpy.ndarray'>\n",
      "[[0.18693902 0.36672604 0.37834602 0.13488366 0.27746086 0.83203475\n",
      "  0.03720016 0.42018927]\n",
      " [0.27452319 0.12975919 0.70442857 0.96461601 0.50667354 0.87487963\n",
      "  0.65933702 0.42308445]\n",
      " [0.73834086 0.77069621 0.61183567 0.64477444 0.17320863 0.28486857\n",
      "  0.99346245 0.63788839]\n",
      " [0.839596   0.56641496 0.36398564 0.19347658 0.70614479 0.15085234\n",
      "  0.31990405 0.86120141]\n",
      " [0.44717533 0.44255639 0.28632024 0.41987364 0.15565493 0.77062238\n",
      "  0.847253   0.15875525]\n",
      " [0.34123816 0.31691164 0.11255495 0.90595731 0.87959376 0.5490664\n",
      "  0.30591158 0.71185228]\n",
      " [0.01851523 0.85254342 0.02968713 0.62068827 0.69312736 0.65160346\n",
      "  0.89545575 0.40955094]\n",
      " [0.78432291 0.52740826 0.54330133 0.73162188 0.94420635 0.52320778\n",
      "  0.12394229 0.95553442]]\n"
     ]
    }
   ],
   "source": [
    "#exemplo de biblioteca numpy\n",
    "from numpy import *\n",
    "a = random.random((8,8))\n",
    "print(type(a))\n",
    "print(a)"
   ]
  },
  {
   "cell_type": "code",
   "execution_count": null,
   "metadata": {},
   "outputs": [],
   "source": []
  }
 ],
 "metadata": {
  "kernelspec": {
   "display_name": "Python 3",
   "language": "python",
   "name": "python3"
  },
  "language_info": {
   "codemirror_mode": {
    "name": "ipython",
    "version": 3
   },
   "file_extension": ".py",
   "mimetype": "text/x-python",
   "name": "python",
   "nbconvert_exporter": "python",
   "pygments_lexer": "ipython3",
   "version": "3.8.5"
  }
 },
 "nbformat": 4,
 "nbformat_minor": 4
}
