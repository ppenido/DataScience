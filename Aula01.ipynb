{
 "cells": [
  {
   "cell_type": "code",
   "execution_count": 1,
   "metadata": {},
   "outputs": [
    {
     "name": "stdout",
     "output_type": "stream",
     "text": [
      "1\n",
      "2\n",
      "3.14\n",
      "1.5\n",
      "Pedro Penido\n",
      "Rua Albita\n",
      "True\n",
      "False\n"
     ]
    }
   ],
   "source": [
    "#Variaveis do tipo inteiro\n",
    "a = 1\n",
    "b = 2\n",
    "print(a)\n",
    "print(b)\n",
    "#Variaveis do tipo float\n",
    "c = 3.14\n",
    "d = 1.5\n",
    "print(c)\n",
    "print(d)\n",
    "#Variaveis do tipo String\n",
    "nome = \"Pedro Penido\"\n",
    "endereco = \"Rua Albita\"\n",
    "print(nome)\n",
    "print(endereco)\n",
    "#Variaveis do tipo logica\n",
    "e = True\n",
    "f = False\n",
    "print(e)\n",
    "print(f)\n"
   ]
  },
  {
   "cell_type": "code",
   "execution_count": 3,
   "metadata": {},
   "outputs": [
    {
     "name": "stdout",
     "output_type": "stream",
     "text": [
      "3000\n"
     ]
    }
   ],
   "source": [
    "#calculadora\n",
    "a = 10\n",
    "b = 20\n",
    "c = 100\n",
    "d = (a + b) * c\n",
    "print(d)"
   ]
  },
  {
   "cell_type": "code",
   "execution_count": 6,
   "metadata": {},
   "outputs": [
    {
     "name": "stdout",
     "output_type": "stream",
     "text": [
      "Este sera um exemplo de print.\n",
      "10\n",
      "Texto 10\n"
     ]
    }
   ],
   "source": [
    "#comando print\n",
    "print(\"Este sera um exemplo de print.\")\n",
    "print(a)\n",
    "print(\"Texto\",a)"
   ]
  },
  {
   "cell_type": "code",
   "execution_count": 7,
   "metadata": {},
   "outputs": [
    {
     "name": "stdout",
     "output_type": "stream",
     "text": [
      "<class 'int'>\n",
      "<class 'str'>\n"
     ]
    }
   ],
   "source": [
    "#Verificar tipo\n",
    "print(type(a))\n",
    "print(type(nome))"
   ]
  },
  {
   "cell_type": "code",
   "execution_count": 1,
   "metadata": {},
   "outputs": [
    {
     "name": "stdout",
     "output_type": "stream",
     "text": [
      "Entre com um dado: \n"
     ]
    },
    {
     "name": "stdin",
     "output_type": "stream",
     "text": [
      " 10\n"
     ]
    },
    {
     "name": "stdout",
     "output_type": "stream",
     "text": [
      "<class 'str'>\n"
     ]
    }
   ],
   "source": [
    "#entrada de dados\n",
    "print(\"Entre com um dado: \")\n",
    "i = input()\n",
    "#mostra o tipo dado\n",
    "print(type(i))"
   ]
  },
  {
   "cell_type": "code",
   "execution_count": 3,
   "metadata": {},
   "outputs": [
    {
     "name": "stdout",
     "output_type": "stream",
     "text": [
      "Entre com um dado: \n"
     ]
    },
    {
     "name": "stdin",
     "output_type": "stream",
     "text": [
      " 10\n",
      "Entre com um dado:  10\n"
     ]
    }
   ],
   "source": [
    "#entrada de valor com mensagem separada e junta\n",
    "print(\"Entre com um dado: \")\n",
    "i = input()\n",
    "#ou\n",
    "i = input(\"Entre com um dado: \")"
   ]
  },
  {
   "cell_type": "code",
   "execution_count": 5,
   "metadata": {},
   "outputs": [
    {
     "name": "stdin",
     "output_type": "stream",
     "text": [
      "Entre com um dado:  2\n"
     ]
    },
    {
     "name": "stdout",
     "output_type": "stream",
     "text": [
      "<class 'str'>\n",
      "<class 'int'>\n"
     ]
    }
   ],
   "source": [
    "#conversao de valores para inteiro\n",
    "j = input(\"Entre com um dado: \")\n",
    "print(type(j))\n",
    "j = int(j)\n",
    "print(type(j))"
   ]
  },
  {
   "cell_type": "code",
   "execution_count": 7,
   "metadata": {},
   "outputs": [
    {
     "name": "stdin",
     "output_type": "stream",
     "text": [
      "Entre com um dado:  10\n"
     ]
    },
    {
     "name": "stdout",
     "output_type": "stream",
     "text": [
      "<class 'str'>\n",
      "<class 'float'>\n"
     ]
    }
   ],
   "source": [
    "#conversao de valores para float\n",
    "j = input(\"Entre com um dado: \")\n",
    "print(type(j))\n",
    "j = float(j)\n",
    "print(type(j))"
   ]
  },
  {
   "cell_type": "code",
   "execution_count": null,
   "metadata": {},
   "outputs": [],
   "source": []
  }
 ],
 "metadata": {
  "kernelspec": {
   "display_name": "Python 3",
   "language": "python",
   "name": "python3"
  },
  "language_info": {
   "codemirror_mode": {
    "name": "ipython",
    "version": 3
   },
   "file_extension": ".py",
   "mimetype": "text/x-python",
   "name": "python",
   "nbconvert_exporter": "python",
   "pygments_lexer": "ipython3",
   "version": "3.8.5"
  }
 },
 "nbformat": 4,
 "nbformat_minor": 4
}
