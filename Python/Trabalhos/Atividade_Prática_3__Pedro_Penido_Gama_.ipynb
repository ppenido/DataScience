{
  "nbformat": 4,
  "nbformat_minor": 0,
  "metadata": {
    "kernelspec": {
      "display_name": "Python 3",
      "language": "python",
      "name": "python3"
    },
    "language_info": {
      "codemirror_mode": {
        "name": "ipython",
        "version": 3
      },
      "file_extension": ".py",
      "mimetype": "text/x-python",
      "name": "python",
      "nbconvert_exporter": "python",
      "pygments_lexer": "ipython3",
      "version": "3.7.3"
    },
    "colab": {
      "name": "Atividade Prática 3 - <Pedro Penido Gama>.ipynb",
      "provenance": [],
      "collapsed_sections": []
    }
  },
  "cells": [
    {
      "cell_type": "markdown",
      "metadata": {
        "id": "9cKOL6tBFd_R"
      },
      "source": [
        "# Atividade Prática - Exercício 3\n",
        "#### Valor : 10 pontos"
      ]
    },
    {
      "cell_type": "markdown",
      "metadata": {
        "id": "hX2F78TbFd_T"
      },
      "source": [
        "1) Solicite ao usuário que informe a quantidade de linhas (n) e colunas (m) e crie um ndarray nxm com valores aleatórios."
      ]
    },
    {
      "cell_type": "code",
      "source": [
        "!pip install numpy"
      ],
      "metadata": {
        "colab": {
          "base_uri": "https://localhost:8080/"
        },
        "id": "M_N8mVaXdruD",
        "outputId": "8499de61-0cdf-4672-e2d2-235c0bfd6098"
      },
      "execution_count": null,
      "outputs": [
        {
          "output_type": "stream",
          "name": "stdout",
          "text": [
            "Requirement already satisfied: numpy in /usr/local/lib/python3.7/dist-packages (1.21.6)\n"
          ]
        }
      ]
    },
    {
      "cell_type": "code",
      "source": [
        "import numpy as np"
      ],
      "metadata": {
        "id": "G47M37e7crjC"
      },
      "execution_count": null,
      "outputs": []
    },
    {
      "cell_type": "code",
      "metadata": {
        "id": "7HOBVuSim_PJ",
        "colab": {
          "base_uri": "https://localhost:8080/"
        },
        "outputId": "905a8b1f-6238-4074-d653-9e75c4695fda"
      },
      "source": [
        "n = int(input(\"Digite o numero de linhas: \"))\n",
        "m = int(input('Digite o numero de colunas: '))\n",
        "total = n*m\n",
        "vet = np.ndarray((n,m),dtype = int)\n",
        "print(vet)\n"
      ],
      "execution_count": null,
      "outputs": [
        {
          "output_type": "stream",
          "name": "stdout",
          "text": [
            "Digite o numero de linhas: 3\n",
            "Digite o numero de colunas: 4\n",
            "[[    51155040 137438953588 137438953533 481036337262]\n",
            " [472446402606 416611827812 489626271858 519691042913]\n",
            " [472446402600 468151435308           41            0]]\n"
          ]
        }
      ]
    },
    {
      "cell_type": "markdown",
      "metadata": {
        "id": "8PRj7bRfcaXu"
      },
      "source": [
        "2) Retorne a média dos valores de cada uma das n linhas"
      ]
    },
    {
      "cell_type": "code",
      "metadata": {
        "id": "EwAeRvFScap6",
        "colab": {
          "base_uri": "https://localhost:8080/"
        },
        "outputId": "6cdae77e-044a-4691-8c1e-1c4f68560673"
      },
      "source": [
        "from numpy.core.fromnumeric import mean\n",
        "for i in range(0,n):\n",
        "  media = mean(vet[i])\n",
        "  print(f\"Media da linha {i} -\",media)\n"
      ],
      "execution_count": null,
      "outputs": [
        {
          "output_type": "stream",
          "name": "stdout",
          "text": [
            "Media da linha 0 - 188991349855.75\n",
            "Media da linha 1 - 474593886297.25\n",
            "Media da linha 2 - 235149459487.25\n"
          ]
        }
      ]
    },
    {
      "cell_type": "markdown",
      "metadata": {
        "id": "VEqNDxEIca9N"
      },
      "source": [
        "3) Retorne a mediana dos valores das m colunas"
      ]
    },
    {
      "cell_type": "code",
      "metadata": {
        "id": "u8d1uuMncbK6",
        "colab": {
          "base_uri": "https://localhost:8080/"
        },
        "outputId": "5f2fcb41-d4e2-4631-bc10-4219c8b83cef"
      },
      "source": [
        "from numpy.lib.function_base import median\n",
        "for i in range(0,m):\n",
        "  mediana = median(vet[::,i])\n",
        "  print(f\"Mediana da coluna {i} -\",mediana)"
      ],
      "execution_count": null,
      "outputs": [
        {
          "output_type": "stream",
          "name": "stdout",
          "text": [
            "Mediana da coluna 0 - 472446402600.0\n",
            "Mediana da coluna 1 - 416611827812.0\n",
            "Mediana da coluna 2 - 137438953533.0\n",
            "Mediana da coluna 3 - 481036337262.0\n"
          ]
        }
      ]
    },
    {
      "cell_type": "markdown",
      "metadata": {
        "id": "KeAs6hMwcb8c"
      },
      "source": [
        "4)  Dados os seguintes arrays x e y, calcula a correlação entre eles."
      ]
    },
    {
      "cell_type": "code",
      "metadata": {
        "id": "Xh9ATAtu8r4e"
      },
      "source": [
        "import numpy as np\n",
        "x = np.array([0, 1, 3, 8, -3])\n",
        "y = np.array([5, 4, 2, 1, 7])\n",
        "z = np.array([-5, -41, -97])"
      ],
      "execution_count": null,
      "outputs": []
    },
    {
      "cell_type": "code",
      "metadata": {
        "id": "f9N5acg8ccIE",
        "colab": {
          "base_uri": "https://localhost:8080/"
        },
        "outputId": "306b37cd-c136-43ee-f880-c68dbedffa04"
      },
      "source": [
        "np.corrcoef(x, y)"
      ],
      "execution_count": null,
      "outputs": [
        {
          "output_type": "execute_result",
          "data": {
            "text/plain": [
              "array([[ 1.        , -0.95320714],\n",
              "       [-0.95320714,  1.        ]])"
            ]
          },
          "metadata": {},
          "execution_count": 18
        }
      ]
    },
    {
      "cell_type": "markdown",
      "metadata": {
        "id": "rWQdxezccmNm"
      },
      "source": [
        "5) Faça uma função que receba um ndarray de valores inteiros e retorne um ndarray de mesma dimensão, onde os valores negativos serão substituídos por True e os valores positivos por False."
      ]
    },
    {
      "cell_type": "code",
      "metadata": {
        "id": "Y2DozZmSheJr",
        "colab": {
          "base_uri": "https://localhost:8080/"
        },
        "outputId": "fd858898-1dde-4ab3-d239-1b7c6491295a"
      },
      "source": [
        "def noNeg(vet):\n",
        "  for i in range(0,2):\n",
        "    for j in range(0,3):\n",
        "      if vet[i,j]<0:\n",
        "        vet[i,j] = True\n",
        "      else:\n",
        "        vet[i,j] = False\n",
        "  return vet\n",
        "\n",
        "vet = np.random.randn(6).reshape(2,3)\n",
        "print(vet)\n",
        "noNeg(vet)\n"
      ],
      "execution_count": null,
      "outputs": [
        {
          "output_type": "stream",
          "name": "stdout",
          "text": [
            "[[-2.18337133 -0.598444    1.46575933]\n",
            " [ 0.85967808  0.81823582 -1.49904966]]\n"
          ]
        },
        {
          "output_type": "execute_result",
          "data": {
            "text/plain": [
              "array([[1., 1., 0.],\n",
              "       [0., 0., 1.]])"
            ]
          },
          "metadata": {},
          "execution_count": 33
        }
      ]
    },
    {
      "cell_type": "code",
      "source": [
        ""
      ],
      "metadata": {
        "id": "BsIbmranogLZ"
      },
      "execution_count": null,
      "outputs": []
    }
  ]
}