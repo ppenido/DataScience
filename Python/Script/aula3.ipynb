{
 "cells": [
  {
   "cell_type": "code",
   "execution_count": 1,
   "id": "a3c8012d-8683-4824-aaf1-e13bebfb9df6",
   "metadata": {},
   "outputs": [
    {
     "data": {
      "text/plain": [
       "'Pedro'"
      ]
     },
     "execution_count": 1,
     "metadata": {},
     "output_type": "execute_result"
    }
   ],
   "source": [
    "nome = \"Pedro\"\n",
    "nome"
   ]
  },
  {
   "cell_type": "code",
   "execution_count": 4,
   "id": "027f2d68-cbc3-4dfc-a463-9f3faf89d9ec",
   "metadata": {},
   "outputs": [
    {
     "name": "stdin",
     "output_type": "stream",
     "text": [
      "digite o seu nome: pedro\n"
     ]
    },
    {
     "data": {
      "text/plain": [
       "'pedro'"
      ]
     },
     "execution_count": 4,
     "metadata": {},
     "output_type": "execute_result"
    }
   ],
   "source": [
    "nome1 = input(\"digite o seu nome:\")\n",
    "nome1"
   ]
  },
  {
   "cell_type": "code",
   "execution_count": 13,
   "id": "615f7981-caec-4281-a41f-d1d3e85f496e",
   "metadata": {},
   "outputs": [
    {
     "data": {
      "text/plain": [
       "True"
      ]
     },
     "execution_count": 13,
     "metadata": {},
     "output_type": "execute_result"
    }
   ],
   "source": [
    "id = True\n",
    "id"
   ]
  },
  {
   "cell_type": "code",
   "execution_count": 62,
   "id": "b3560ce9-4eda-483d-b461-29fc13e85dfd",
   "metadata": {},
   "outputs": [
    {
     "name": "stdin",
     "output_type": "stream",
     "text": [
      "digite um numero: 0\n"
     ]
    },
    {
     "name": "stdout",
     "output_type": "stream",
     "text": [
      "numero par\n"
     ]
    }
   ],
   "source": [
    "numero = input(\"digite um numero:\")\n",
    "numero = int (numero)\n",
    "if numero%2 == 0:\n",
    "    print(\"numero par\")\n",
    "else:\n",
    "    print(\"numero impar\")\n",
    "               "
   ]
  },
  {
   "cell_type": "code",
   "execution_count": 40,
   "id": "4976caa1-25c5-48ab-9a76-bde8cb90e94d",
   "metadata": {},
   "outputs": [
    {
     "name": "stdout",
     "output_type": "stream",
     "text": [
      "CALCULADORA MASTER\n"
     ]
    },
    {
     "name": "stdin",
     "output_type": "stream",
     "text": [
      "operador 1: 10\n",
      "operador 2: 5\n"
     ]
    },
    {
     "name": "stdout",
     "output_type": "stream",
     "text": [
      "Escolha dentre as opcao abaixo:\n",
      "1 - Soma\n",
      "2 - Subtracao\n",
      "3 - Multiplicacao\n",
      "4 - Divisao\n"
     ]
    },
    {
     "name": "stdin",
     "output_type": "stream",
     "text": [
      "Opcao: 4\n"
     ]
    },
    {
     "name": "stdout",
     "output_type": "stream",
     "text": [
      "A divisao de  10 / 5 = 2.0\n"
     ]
    }
   ],
   "source": [
    "print(\"CALCULADORA MASTER\")\n",
    "a = input(\"operador 1:\")\n",
    "b = input(\"operador 2:\")\n",
    "a = int(a)\n",
    "b = int(b)\n",
    "print(\"Escolha dentre as opcao abaixo:\")\n",
    "print(\"1 - Soma\")\n",
    "print(\"2 - Subtracao\")\n",
    "print(\"3 - Multiplicacao\")\n",
    "print(\"4 - Divisao\")\n",
    "opc = input(\"Opcao:\")\n",
    "opc = int(opc)\n",
    "if opc == 1:\n",
    "    resultado = a+b\n",
    "    print(\"A soma de \",a,\"+\",b,\"=\",resultado)\n",
    "elif opc == 2:\n",
    "    resultado = a-b\n",
    "    print(\"A Subtracao de \",a,\"-\",b,\"=\",resultado)\n",
    "elif opc == 3:\n",
    "    resultado = a*b\n",
    "    print(\"A Multiplicacao de \",a,\"*\",b,\"=\",resultado)\n",
    "elif opc == 4:\n",
    "    resultado = a/b\n",
    "    print(\"A divisao de \",a,\"/\",b,\"=\",resultado)"
   ]
  },
  {
   "cell_type": "code",
   "execution_count": 44,
   "id": "e543eb94-c482-44c0-85a1-a3474793ea6b",
   "metadata": {},
   "outputs": [
    {
     "data": {
      "text/plain": [
       "[1, 2, 3, 4]"
      ]
     },
     "execution_count": 44,
     "metadata": {},
     "output_type": "execute_result"
    }
   ],
   "source": [
    "#lista\n",
    "lista = []\n",
    "type(lista)\n",
    "lista = [1,2,3,4]\n",
    "lista"
   ]
  },
  {
   "cell_type": "code",
   "execution_count": 63,
   "id": "f604c640-6c5a-433a-98f2-fe5d213b9159",
   "metadata": {},
   "outputs": [
    {
     "name": "stdout",
     "output_type": "stream",
     "text": [
      "dict_keys(['Pedro'])\n",
      "dict_values([16])\n"
     ]
    }
   ],
   "source": [
    "#Dicio\n",
    "dicio = {}\n",
    "type(dicio)\n",
    "dicio = {\"Pedro\":16}\n",
    "print(dicio.keys())\n",
    "print(dicio.values())\n",
    "#print(dicio[0])"
   ]
  },
  {
   "cell_type": "code",
   "execution_count": 46,
   "id": "947eb4fe-4950-4ea0-b936-7066c635ffdb",
   "metadata": {},
   "outputs": [
    {
     "data": {
      "text/plain": [
       "(1, 2, 3)"
      ]
     },
     "execution_count": 46,
     "metadata": {},
     "output_type": "execute_result"
    }
   ],
   "source": [
    "#tupla\n",
    "tupla = ()\n",
    "type(tupla)\n",
    "tupla = (1,2,3)\n",
    "tupla"
   ]
  },
  {
   "cell_type": "code",
   "execution_count": 74,
   "id": "7bf04dc8-3be8-4ef9-b37f-9d6eac8d725b",
   "metadata": {},
   "outputs": [
    {
     "name": "stdout",
     "output_type": "stream",
     "text": [
      "Cesar\n",
      "Cesar\n",
      "Cesar\n",
      "Cesar\n",
      "Cesar\n",
      "Pedro\n",
      "Pedro\n",
      "Pedro\n",
      "Pedro\n",
      "Pedro\n",
      "Ana\n",
      "Ana\n",
      "Ana\n"
     ]
    }
   ],
   "source": [
    "lista = [\"Cesar\", \"Pedro\", \"Ana\"]\n",
    "for nome in lista:\n",
    "    for i in range(len(nome)):\n",
    "        print(nome)"
   ]
  },
  {
   "cell_type": "code",
   "execution_count": null,
   "id": "4591b5a1-fe3e-4f70-a3ec-1c4a616ee62d",
   "metadata": {},
   "outputs": [],
   "source": []
  }
 ],
 "metadata": {
  "kernelspec": {
   "display_name": "Python 3 (ipykernel)",
   "language": "python",
   "name": "python3"
  },
  "language_info": {
   "codemirror_mode": {
    "name": "ipython",
    "version": 3
   },
   "file_extension": ".py",
   "mimetype": "text/x-python",
   "name": "python",
   "nbconvert_exporter": "python",
   "pygments_lexer": "ipython3",
   "version": "3.9.7"
  }
 },
 "nbformat": 4,
 "nbformat_minor": 5
}
