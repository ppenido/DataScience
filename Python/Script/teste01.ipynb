{
 "cells": [
  {
   "cell_type": "code",
   "execution_count": 1,
   "id": "54f7bf0a-b8e0-404d-8535-3eca152b9e05",
   "metadata": {},
   "outputs": [
    {
     "name": "stdout",
     "output_type": "stream",
     "text": [
      "10\n"
     ]
    }
   ],
   "source": [
    "x = 10\n",
    "print(x)"
   ]
  },
  {
   "cell_type": "code",
   "execution_count": 3,
   "id": "ec5d62f3-956c-49f2-b401-14b7d0dc97ae",
   "metadata": {},
   "outputs": [
    {
     "name": "stdin",
     "output_type": "stream",
     "text": [
      "ENTRE COM UM VALOR: 40\n"
     ]
    },
    {
     "name": "stdout",
     "output_type": "stream",
     "text": [
      "valor digitado: 40\n"
     ]
    }
   ],
   "source": [
    "y = input(\"ENTRE COM UM VALOR:\")\n",
    "print(\"valor digitado:\", y)"
   ]
  },
  {
   "cell_type": "code",
   "execution_count": 4,
   "id": "730dc400-888f-482b-9ef7-1f4c67d7e4b8",
   "metadata": {},
   "outputs": [
    {
     "name": "stdout",
     "output_type": "stream",
     "text": [
      "610\n"
     ]
    }
   ],
   "source": [
    "x=10\n",
    "y=20\n",
    "z=30\n",
    "print(x+y*z)"
   ]
  },
  {
   "cell_type": "code",
   "execution_count": 8,
   "id": "8ced78c1-39ae-421b-94d2-686f0222e45d",
   "metadata": {},
   "outputs": [
    {
     "name": "stdout",
     "output_type": "stream",
     "text": [
      "[1, 2, 3, 4, 5]\n"
     ]
    }
   ],
   "source": [
    "\n",
    "lst=[1,2,3,4,5]\n",
    "print(lst)\n"
   ]
  },
  {
   "cell_type": "code",
   "execution_count": 6,
   "id": "6fcf3f98-db99-4d85-b087-873ae7f9f441",
   "metadata": {},
   "outputs": [
    {
     "data": {
      "text/plain": [
       "0.004913000000000001"
      ]
     },
     "execution_count": 6,
     "metadata": {},
     "output_type": "execute_result"
    }
   ],
   "source": [
    "0.17**3"
   ]
  },
  {
   "cell_type": "code",
   "execution_count": 4,
   "id": "a4c99ef7-67d7-406c-a4d7-1de812e48004",
   "metadata": {},
   "outputs": [
    {
     "name": "stdout",
     "output_type": "stream",
     "text": [
      "Arthur\n"
     ]
    }
   ],
   "source": [
    "def imprimir(nome, qtde = 1):\n",
    "    for i in range(qtde):\n",
    "        print(nome)\n",
    "imprimir(\"Arthur\")"
   ]
  },
  {
   "cell_type": "code",
   "execution_count": null,
   "id": "813a938d-295d-45d8-bfb2-1d4c1248b674",
   "metadata": {},
   "outputs": [],
   "source": []
  }
 ],
 "metadata": {
  "kernelspec": {
   "display_name": "Python 3 (ipykernel)",
   "language": "python",
   "name": "python3"
  },
  "language_info": {
   "codemirror_mode": {
    "name": "ipython",
    "version": 3
   },
   "file_extension": ".py",
   "mimetype": "text/x-python",
   "name": "python",
   "nbconvert_exporter": "python",
   "pygments_lexer": "ipython3",
   "version": "3.9.7"
  }
 },
 "nbformat": 4,
 "nbformat_minor": 5
}
