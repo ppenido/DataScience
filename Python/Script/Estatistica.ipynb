{
 "cells": [
  {
   "cell_type": "code",
   "execution_count": 2,
   "id": "952594a4-60fc-4906-a840-dd905c491612",
   "metadata": {},
   "outputs": [],
   "source": [
    "import statistics as st"
   ]
  },
  {
   "cell_type": "code",
   "execution_count": 3,
   "id": "9b215feb-b5f8-4dba-a7bf-4f9b78acb2c1",
   "metadata": {},
   "outputs": [
    {
     "ename": "SyntaxError",
     "evalue": "invalid syntax (Temp/ipykernel_6028/3579048955.py, line 2)",
     "output_type": "error",
     "traceback": [
      "\u001b[1;36m  File \u001b[1;32m\"C:\\Users\\ppeni\\AppData\\Local\\Temp/ipykernel_6028/3579048955.py\"\u001b[1;36m, line \u001b[1;32m2\u001b[0m\n\u001b[1;33m    print('Media:'st.pstdev(lista))\u001b[0m\n\u001b[1;37m                  ^\u001b[0m\n\u001b[1;31mSyntaxError\u001b[0m\u001b[1;31m:\u001b[0m invalid syntax\n"
     ]
    }
   ],
   "source": [
    "lista = [3094, 3268, 4302, 3184, 3266, 3124, 3316, 3212, 3380, 3018]\n",
    "print('Media:'st.pstdev(lista))\n",
    "print('Mediana:'st.mean(lista))\n",
    "print('Desvio Padrao:'st.median(lista))"
   ]
  },
  {
   "cell_type": "code",
   "execution_count": null,
   "id": "edfdea4d-983c-44c5-a1d1-8f7fa195cfe7",
   "metadata": {},
   "outputs": [],
   "source": []
  }
 ],
 "metadata": {
  "kernelspec": {
   "display_name": "Python 3 (ipykernel)",
   "language": "python",
   "name": "python3"
  },
  "language_info": {
   "codemirror_mode": {
    "name": "ipython",
    "version": 3
   },
   "file_extension": ".py",
   "mimetype": "text/x-python",
   "name": "python",
   "nbconvert_exporter": "python",
   "pygments_lexer": "ipython3",
   "version": "3.9.7"
  }
 },
 "nbformat": 4,
 "nbformat_minor": 5
}
