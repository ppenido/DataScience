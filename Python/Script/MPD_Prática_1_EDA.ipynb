{
 "cells": [
  {
   "cell_type": "markdown",
   "metadata": {
    "id": "4nlocg6krrDt"
   },
   "source": [
    "# **PUC Minas - Ciência de Dados e Big Data**\n",
    "## **Modelagem e Preparação de Dados para Aprendizado de Máquina**\n",
    "### Aula Prática 1 - Análise Exploratória de Dados"
   ]
  },
  {
   "cell_type": "markdown",
   "metadata": {
    "id": "GIEZAvVWsFWo"
   },
   "source": [
    "**Objetivo:**\n",
    "  - Aprender a se familiarizar com dados,\n",
    "  - Aplicar técnicas de estatística descritiva,\n",
    "  - Praticar a busca por informações em bases de dados,\n",
    "  - Praticar o uso de ferramentas para visualizar comportamento dos dados (de forma uni e multivariada),\n",
    "  - Familiarizar-se com ferramentas em Python para análise de dados."
   ]
  },
  {
   "cell_type": "markdown",
   "metadata": {
    "id": "YJyOJ54Tsvlc"
   },
   "source": [
    "#### Pacotes e Configurações"
   ]
  },
  {
   "cell_type": "code",
   "execution_count": null,
   "metadata": {
    "id": "egGXf_HNrqGJ"
   },
   "outputs": [],
   "source": [
    "import pandas as pd\n",
    "import seaborn as sns\n",
    "import matplotlib.pyplot as plt\n",
    "% matplotlib inline"
   ]
  },
  {
   "cell_type": "markdown",
   "metadata": {
    "id": "dlWsYixzvYb9"
   },
   "source": [
    "### Carregando Dados"
   ]
  },
  {
   "cell_type": "code",
   "execution_count": null,
   "metadata": {
    "id": "WdPrrwQOvWx0"
   },
   "outputs": [],
   "source": [
    "survey18 = pd.read_csv('/content/drive/MyDrive/Colab Notebooks/data/it_eu_salary_survey/IT Salary Survey EU 2018.csv')\n",
    "survey19 = pd.read_csv('/content/drive/MyDrive/Colab Notebooks/data/it_eu_salary_survey/IT Salary Survey EU 2019.csv')\n",
    "survey20 = pd.read_csv('/content/drive/MyDrive/Colab Notebooks/data/it_eu_salary_survey/IT Salary Survey EU  2020.csv')\n",
    "\n",
    "print('Survey 2018 Shape: {}'.format(survey18.shape))\n",
    "print('Survey 2019 Shape: {}'.format(survey19.shape))\n",
    "print('Survey 2020 Shape: {}'.format(survey20.shape))"
   ]
  },
  {
   "cell_type": "code",
   "execution_count": null,
   "metadata": {
    "id": "wN6WBkjev2nC"
   },
   "outputs": [],
   "source": [
    "survey18.head()"
   ]
  },
  {
   "cell_type": "code",
   "execution_count": null,
   "metadata": {
    "id": "SoRL3UdpzSxP"
   },
   "outputs": [],
   "source": [
    "survey18.tail()"
   ]
  },
  {
   "cell_type": "code",
   "execution_count": null,
   "metadata": {
    "id": "AEDS9DUbwEOg"
   },
   "outputs": [],
   "source": [
    "survey19.head()"
   ]
  },
  {
   "cell_type": "code",
   "execution_count": null,
   "metadata": {
    "id": "vpSWEmuSzZlc"
   },
   "outputs": [],
   "source": [
    "survey19.tail()"
   ]
  },
  {
   "cell_type": "code",
   "execution_count": null,
   "metadata": {
    "id": "Vr5EVc59wFt5"
   },
   "outputs": [],
   "source": [
    "survey20.head()"
   ]
  },
  {
   "cell_type": "code",
   "execution_count": null,
   "metadata": {
    "id": "KLxuC7zazd_N"
   },
   "outputs": [],
   "source": [
    "survey20.tail()"
   ]
  },
  {
   "cell_type": "markdown",
   "metadata": {
    "id": "Clesnh9v1PLL"
   },
   "source": [
    "- Crie uma coluna em cada dataframe definindo de qual ano é a informação"
   ]
  },
  {
   "cell_type": "code",
   "execution_count": null,
   "metadata": {
    "id": "d1JfuaYa1OKo"
   },
   "outputs": [],
   "source": [
    "survey18['Year'] = 2018\n",
    "survey19['Year'] = 2019\n",
    "survey20['Year'] = 2020"
   ]
  },
  {
   "cell_type": "markdown",
   "metadata": {
    "id": "TRAqz6SKwd1I"
   },
   "source": [
    "**Avaliando colunas:**"
   ]
  },
  {
   "cell_type": "code",
   "execution_count": null,
   "metadata": {
    "id": "P1QB0cIIwbRF"
   },
   "outputs": [],
   "source": [
    "survey18.columns.tolist()"
   ]
  },
  {
   "cell_type": "code",
   "execution_count": null,
   "metadata": {
    "id": "3R3D5NMGwIJP"
   },
   "outputs": [],
   "source": [
    "survey19.columns.tolist()"
   ]
  },
  {
   "cell_type": "code",
   "execution_count": null,
   "metadata": {
    "id": "kru_wltlwl8s"
   },
   "outputs": [],
   "source": [
    "survey20.columns.tolist()"
   ]
  },
  {
   "cell_type": "code",
   "execution_count": null,
   "metadata": {
    "id": "4Jlz0temwwOa"
   },
   "outputs": [],
   "source": [
    "print(survey18.columns.intersection(survey19.columns))"
   ]
  },
  {
   "cell_type": "code",
   "execution_count": null,
   "metadata": {
    "id": "FaYrGfw9xSNR"
   },
   "outputs": [],
   "source": [
    "print(survey18.columns.intersection(survey20.columns))"
   ]
  },
  {
   "cell_type": "code",
   "execution_count": null,
   "metadata": {
    "id": "3rClzZnUxWOM"
   },
   "outputs": [],
   "source": [
    "print(survey19.columns.intersection(survey20.columns))"
   ]
  },
  {
   "cell_type": "code",
   "execution_count": null,
   "metadata": {
    "id": "GwCYhti_xbTz"
   },
   "outputs": [],
   "source": [
    "print(survey18.columns.intersection(survey19.columns.intersection(survey20.columns)))"
   ]
  },
  {
   "cell_type": "code",
   "execution_count": null,
   "metadata": {
    "id": "GsAtR4oIxmiG"
   },
   "outputs": [],
   "source": [
    "survey19.rename(columns={'Zeitstempel':'Timestamp'}, inplace=True)"
   ]
  },
  {
   "cell_type": "code",
   "execution_count": null,
   "metadata": {
    "id": "WaSWkvGDyKA9"
   },
   "outputs": [],
   "source": [
    "print(survey18.columns.intersection(survey19.columns.intersection(survey20.columns)))"
   ]
  },
  {
   "cell_type": "code",
   "execution_count": null,
   "metadata": {
    "id": "OvuZnVJvyKeu"
   },
   "outputs": [],
   "source": [
    "common_col = survey18.columns.intersection(survey19.columns.intersection(survey20.columns)).tolist()"
   ]
  },
  {
   "cell_type": "markdown",
   "metadata": {
    "id": "4i6Yibs7yhrD"
   },
   "source": [
    "### Criando dataframe unificando com dados comuns às 3 pesquisas"
   ]
  },
  {
   "cell_type": "code",
   "execution_count": null,
   "metadata": {
    "id": "PKkpK-nOyXL_"
   },
   "outputs": [],
   "source": [
    "full_data = pd.concat([survey18[common_col],survey19[common_col]], axis=0)\n",
    "full_data = pd.concat([full_data,survey19[common_col]], axis=0)\n",
    "full_data"
   ]
  },
  {
   "cell_type": "code",
   "execution_count": null,
   "metadata": {
    "id": "0bQ9KN34yvSq"
   },
   "outputs": [],
   "source": [
    "full_data.info()"
   ]
  },
  {
   "cell_type": "code",
   "execution_count": null,
   "metadata": {
    "colab": {
     "background_save": true
    },
    "id": "rosR9aa82CDI"
   },
   "outputs": [],
   "source": [
    "pd.to_datetime(full_data['Timestamp']).dt.year"
   ]
  },
  {
   "cell_type": "code",
   "execution_count": null,
   "metadata": {
    "id": "sAbgz0Kt2L3I"
   },
   "outputs": [],
   "source": []
  }
 ],
 "metadata": {
  "colab": {
   "name": "MPD - Prática 1 - EDA.ipynb",
   "provenance": []
  },
  "kernelspec": {
   "display_name": "Python 3 (ipykernel)",
   "language": "python",
   "name": "python3"
  },
  "language_info": {
   "codemirror_mode": {
    "name": "ipython",
    "version": 3
   },
   "file_extension": ".py",
   "mimetype": "text/x-python",
   "name": "python",
   "nbconvert_exporter": "python",
   "pygments_lexer": "ipython3",
   "version": "3.9.7"
  }
 },
 "nbformat": 4,
 "nbformat_minor": 4
}
