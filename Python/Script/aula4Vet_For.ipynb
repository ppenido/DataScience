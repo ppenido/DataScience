{
 "cells": [
  {
   "cell_type": "code",
   "execution_count": 12,
   "id": "cf374bd2-9898-4392-b9b2-4f6c9a42a4e0",
   "metadata": {},
   "outputs": [
    {
     "name": "stdout",
     "output_type": "stream",
     "text": [
      "[1, 2, 3, 4, 5, 6, 7, 8, 9, 10, 11, 22, 33, 44, 55, 66, 77, 88, 99, 1010]\n"
     ]
    }
   ],
   "source": [
    "vet1 = [1,2,3,4,5,6,7,8,9,10]\n",
    "vet2 = [11,22,33,44,55,66,77,88,99,1010]\n",
    "vet3 = []\n",
    "\n",
    "for i in range(0,10):\n",
    "    vet3.append(vet1[i])\n",
    "\n",
    "for j in range(0,10):\n",
    "    vet3.append(vet2[j])\n",
    "        \n",
    "\n",
    "print(vet3)"
   ]
  },
  {
   "cell_type": "code",
   "execution_count": null,
   "id": "51292f68-e745-4eac-bb5b-8d9f99a06911",
   "metadata": {},
   "outputs": [],
   "source": []
  },
  {
   "cell_type": "code",
   "execution_count": 53,
   "id": "9cd50e08-349e-44c2-ab48-0b66d1ee9fe4",
   "metadata": {},
   "outputs": [
    {
     "ename": "TypeError",
     "evalue": "raw_input() takes from 1 to 2 positional arguments but 4 were given",
     "output_type": "error",
     "traceback": [
      "\u001b[1;31m---------------------------------------------------------------------------\u001b[0m",
      "\u001b[1;31mTypeError\u001b[0m                                 Traceback (most recent call last)",
      "\u001b[1;32m~\\AppData\\Local\\Temp\\ipykernel_2612\\4233976201.py\u001b[0m in \u001b[0;36m<module>\u001b[1;34m\u001b[0m\n\u001b[0;32m      2\u001b[0m \u001b[0mmediaTemp\u001b[0m \u001b[1;33m=\u001b[0m \u001b[1;33m[\u001b[0m\u001b[1;33m]\u001b[0m\u001b[1;33m\u001b[0m\u001b[1;33m\u001b[0m\u001b[0m\n\u001b[0;32m      3\u001b[0m \u001b[1;32mfor\u001b[0m \u001b[0mi\u001b[0m \u001b[1;32min\u001b[0m \u001b[0mrange\u001b[0m\u001b[1;33m(\u001b[0m\u001b[1;36m0\u001b[0m\u001b[1;33m,\u001b[0m\u001b[1;36m12\u001b[0m\u001b[1;33m)\u001b[0m\u001b[1;33m:\u001b[0m\u001b[1;33m\u001b[0m\u001b[1;33m\u001b[0m\u001b[0m\n\u001b[1;32m----> 4\u001b[1;33m     \u001b[0mmediaTemp\u001b[0m\u001b[1;33m.\u001b[0m\u001b[0mappend\u001b[0m\u001b[1;33m(\u001b[0m\u001b[0minput\u001b[0m\u001b[1;33m(\u001b[0m\u001b[1;34m\"Digite a media de temperatura para o mes\"\u001b[0m\u001b[1;33m,\u001b[0m\u001b[0mmeses\u001b[0m\u001b[1;33m[\u001b[0m\u001b[0mi\u001b[0m\u001b[1;33m]\u001b[0m\u001b[1;33m,\u001b[0m\u001b[1;34m\":\"\u001b[0m\u001b[1;33m)\u001b[0m\u001b[1;33m)\u001b[0m\u001b[1;33m\u001b[0m\u001b[1;33m\u001b[0m\u001b[0m\n\u001b[0m\u001b[0;32m      5\u001b[0m \u001b[1;33m\u001b[0m\u001b[0m\n\u001b[0;32m      6\u001b[0m   \u001b[1;31m#mediaTemp[i] = input(\"Digite a media de temperatura para o mes\",meses[i],\":\")\u001b[0m\u001b[1;33m\u001b[0m\u001b[1;33m\u001b[0m\u001b[1;33m\u001b[0m\u001b[0m\n",
      "\u001b[1;31mTypeError\u001b[0m: raw_input() takes from 1 to 2 positional arguments but 4 were given"
     ]
    }
   ],
   "source": [
    "meses = [\"Janeiro\", \"Fevereiro\",\"Marco\",\"Abril\",\"Maio\",\"junho\",\"Julho\",\"Agosto\",\"Setembro\",\"Outubro\",\"Novenbro\",\"Dezembro\"]\n",
    "mediaTemp = []\n",
    "for i in range(0,12):\n",
    "    mediaTemp.append(input(\"Digite a media de temperatura para o mes\",meses[i],\":\"))\n",
    "    \n",
    "  #mediaTemp[i] = input(\"Digite a media de temperatura para o mes\",meses[i],\":\")\n"
   ]
  },
  {
   "cell_type": "code",
   "execution_count": null,
   "id": "f123a7bf-b127-434b-a126-affce33da37d",
   "metadata": {},
   "outputs": [],
   "source": []
  }
 ],
 "metadata": {
  "kernelspec": {
   "display_name": "Python 3 (ipykernel)",
   "language": "python",
   "name": "python3"
  },
  "language_info": {
   "codemirror_mode": {
    "name": "ipython",
    "version": 3
   },
   "file_extension": ".py",
   "mimetype": "text/x-python",
   "name": "python",
   "nbconvert_exporter": "python",
   "pygments_lexer": "ipython3",
   "version": "3.9.7"
  }
 },
 "nbformat": 4,
 "nbformat_minor": 5
}
