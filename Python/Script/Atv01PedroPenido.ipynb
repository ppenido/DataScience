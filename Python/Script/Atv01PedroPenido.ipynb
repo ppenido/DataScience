{
 "cells": [
  {
   "cell_type": "code",
   "execution_count": 7,
   "id": "38d6eae0-f46d-42ba-90d3-3890fe437ae8",
   "metadata": {},
   "outputs": [
    {
     "name": "stdout",
     "output_type": "stream",
     "text": [
      "{'Pedro': 9, 'Joao': 7, 'Maria': 6, 'lucas': 3, 'Ana': 10}\n"
     ]
    }
   ],
   "source": [
    "dic = {\"Pedro\":9, \"Joao\":7, \"Maria\":6, \"lucas\":3, \"Ana\":10}\n",
    "print (dic)"
   ]
  },
  {
   "cell_type": "code",
   "execution_count": 20,
   "id": "b178ac5d-7af7-4d24-b4d7-028d8c420ab1",
   "metadata": {},
   "outputs": [
    {
     "data": {
      "text/plain": [
       "dict_keys(['Pedro', 'Joao', 'Maria', 'lucas', 'Ana'])"
      ]
     },
     "execution_count": 20,
     "metadata": {},
     "output_type": "execute_result"
    }
   ],
   "source": [
    "dic.keys()"
   ]
  },
  {
   "cell_type": "code",
   "execution_count": 21,
   "id": "1324f4c9-2be9-430f-b3c5-f310effa7bf6",
   "metadata": {},
   "outputs": [
    {
     "data": {
      "text/plain": [
       "dict_values([9, 7, 6, 3, 10])"
      ]
     },
     "execution_count": 21,
     "metadata": {},
     "output_type": "execute_result"
    }
   ],
   "source": [
    "dic.values()"
   ]
  },
  {
   "cell_type": "code",
   "execution_count": 22,
   "id": "ddb72912-9ef2-4da6-87f2-6801bf585e6b",
   "metadata": {},
   "outputs": [
    {
     "name": "stdin",
     "output_type": "stream",
     "text": [
      "digite o nome: pedro\n",
      "digite a nota: 10\n",
      "digite o nome: ana\n",
      "digite a nota: 3\n",
      "digite o nome: julia\n",
      "digite a nota: 5\n",
      "digite o nome: tiago\n",
      "digite a nota: 7\n",
      "digite o nome: lucas\n",
      "digite a nota: 8\n"
     ]
    },
    {
     "name": "stdout",
     "output_type": "stream",
     "text": [
      "{'pedro': '10', 'ana': '3', 'julia': '5', 'tiago': '7', 'lucas': '8'}\n"
     ]
    }
   ],
   "source": [
    "dic1 = {}\n",
    "for n in range(0,5):\n",
    "    nome = input(\"digite o nome:\")\n",
    "    nota = input(\"digite a nota:\")\n",
    "    dic1[nome] = nota\n",
    "    \n",
    "print(dic1)"
   ]
  },
  {
   "cell_type": "code",
   "execution_count": null,
   "id": "4d61b74d-9e86-4100-b770-4a5e8515a771",
   "metadata": {},
   "outputs": [],
   "source": []
  }
 ],
 "metadata": {
  "kernelspec": {
   "display_name": "Python 3 (ipykernel)",
   "language": "python",
   "name": "python3"
  },
  "language_info": {
   "codemirror_mode": {
    "name": "ipython",
    "version": 3
   },
   "file_extension": ".py",
   "mimetype": "text/x-python",
   "name": "python",
   "nbconvert_exporter": "python",
   "pygments_lexer": "ipython3",
   "version": "3.9.7"
  }
 },
 "nbformat": 4,
 "nbformat_minor": 5
}
