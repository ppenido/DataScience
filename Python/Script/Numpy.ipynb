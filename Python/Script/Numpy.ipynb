{
 "cells": [
  {
   "cell_type": "code",
   "execution_count": 2,
   "id": "2951ed27-5b6c-427e-8d7a-610f8c998612",
   "metadata": {},
   "outputs": [
    {
     "name": "stdout",
     "output_type": "stream",
     "text": [
      "Requirement already satisfied: numpy in c:\\users\\ppeni\\anaconda3\\lib\\site-packages (1.20.3)\n"
     ]
    }
   ],
   "source": [
    "!pip install numpy"
   ]
  },
  {
   "cell_type": "code",
   "execution_count": 2,
   "id": "540d934e-11e6-46a6-a4b8-253e92032cd4",
   "metadata": {},
   "outputs": [],
   "source": [
    "import numpy as np"
   ]
  },
  {
   "cell_type": "code",
   "execution_count": 3,
   "id": "e88fbb90-c0c4-4b66-9591-a9855c6f6186",
   "metadata": {},
   "outputs": [
    {
     "name": "stdout",
     "output_type": "stream",
     "text": [
      "[1 2 3 4]\n"
     ]
    }
   ],
   "source": [
    "import numpy as np\n",
    "vet = np.array([1,2,3,4])\n",
    "print(vet)"
   ]
  },
  {
   "cell_type": "code",
   "execution_count": 4,
   "id": "a921dd0e-72d6-48b5-b006-38504df0af69",
   "metadata": {},
   "outputs": [
    {
     "name": "stdout",
     "output_type": "stream",
     "text": [
      "[1. 2. 3. 4. 5. 6.]\n"
     ]
    }
   ],
   "source": [
    "import numpy as np\n",
    "vet = np.array([1,2,3,4,5,6], dtype = 'float64')\n",
    "print(vet)"
   ]
  },
  {
   "cell_type": "code",
   "execution_count": 5,
   "id": "a95f047b-ecca-4e4b-bdf3-74aec1061f2b",
   "metadata": {},
   "outputs": [
    {
     "name": "stdout",
     "output_type": "stream",
     "text": [
      "float64\n"
     ]
    }
   ],
   "source": [
    "print(vet.dtype)"
   ]
  },
  {
   "cell_type": "code",
   "execution_count": 6,
   "id": "3e726e7d-bc3f-4c4f-8b1d-7b9b9303cbff",
   "metadata": {},
   "outputs": [
    {
     "name": "stdout",
     "output_type": "stream",
     "text": [
      "(6,)\n"
     ]
    }
   ],
   "source": [
    "print(vet.shape)"
   ]
  },
  {
   "cell_type": "code",
   "execution_count": 7,
   "id": "76eaa96d-f5a6-4e1d-a1a2-60d87d791729",
   "metadata": {},
   "outputs": [],
   "source": [
    "vet = vet.reshape(2,3)"
   ]
  },
  {
   "cell_type": "code",
   "execution_count": 8,
   "id": "a00daaad-5fe5-434f-a2fa-d4b9efd2a714",
   "metadata": {},
   "outputs": [
    {
     "data": {
      "text/plain": [
       "array([[1., 2., 3.],\n",
       "       [4., 5., 6.]])"
      ]
     },
     "execution_count": 8,
     "metadata": {},
     "output_type": "execute_result"
    }
   ],
   "source": [
    "vet"
   ]
  },
  {
   "cell_type": "code",
   "execution_count": 9,
   "id": "1d2bc6e8-76a3-4287-8852-541331824179",
   "metadata": {},
   "outputs": [
    {
     "data": {
      "text/plain": [
       "array([[  1,   4,   2,   4],\n",
       "       [566,   3,   2,   2],\n",
       "       [  4,  54,   2,   2]])"
      ]
     },
     "execution_count": 9,
     "metadata": {},
     "output_type": "execute_result"
    }
   ],
   "source": [
    "vet2 = np.array([1,4,2,4,566,3,2,2,4,54,2,2])\n",
    "vet2 = vet2.reshape(3,-1) #-1 quando nao se sabe o numero ao certo\n",
    "vet2"
   ]
  },
  {
   "cell_type": "code",
   "execution_count": 10,
   "id": "5054b238-e8d8-44cf-81c7-890c0e68cb7b",
   "metadata": {},
   "outputs": [],
   "source": [
    "#axis 0 = linhas\n",
    "#axis 1 = colunas\n",
    "#vet2 = sum(axis = 0)"
   ]
  },
  {
   "cell_type": "code",
   "execution_count": 11,
   "id": "1038a5a5-e19c-4826-801f-4bb0f279d242",
   "metadata": {},
   "outputs": [
    {
     "name": "stdout",
     "output_type": "stream",
     "text": [
      "[571  61   6   8]\n"
     ]
    }
   ],
   "source": [
    "somatorio = 0\n",
    "for valor in vet2:\n",
    "    somatorio += valor\n",
    "print(somatorio)"
   ]
  },
  {
   "cell_type": "code",
   "execution_count": 12,
   "id": "f21d263a-ff1a-4190-aba3-360d34e950f9",
   "metadata": {},
   "outputs": [
    {
     "data": {
      "text/plain": [
       "array([  1,   4,   2,   4, 566,   3,   2,   2,   4,  54,   2,   2])"
      ]
     },
     "execution_count": 12,
     "metadata": {},
     "output_type": "execute_result"
    }
   ],
   "source": [
    "vet2 = vet2.reshape(-1)\n",
    "vet2"
   ]
  },
  {
   "cell_type": "code",
   "execution_count": 16,
   "id": "b086862c-7236-4ccf-9f52-7a7f395316ed",
   "metadata": {},
   "outputs": [
    {
     "data": {
      "text/plain": [
       "array([0.91625079, 0.92714984, 0.09706017, 0.50755637, 0.27364944])"
      ]
     },
     "execution_count": 16,
     "metadata": {},
     "output_type": "execute_result"
    }
   ],
   "source": [
    "aleatorio = np.random.random((5))\n",
    "aleatorio"
   ]
  },
  {
   "cell_type": "code",
   "execution_count": 27,
   "id": "f1bf7553-e8bb-413a-96da-495cacdee7ab",
   "metadata": {},
   "outputs": [
    {
     "data": {
      "text/plain": [
       "array([ 0,  1,  2,  3,  4,  5,  6,  7,  8,  9, 10, 11, 12, 13, 14, 15, 16,\n",
       "       17, 18, 19, 20, 21, 22, 23, 24, 25, 26, 27, 28, 29, 30, 31, 32, 33,\n",
       "       34, 35, 36, 37, 38, 39, 40, 41, 42, 43, 44, 45, 46, 47, 48, 49, 50,\n",
       "       51, 52, 53, 54, 55, 56, 57, 58, 59, 60, 61, 62, 63, 64, 65, 66, 67,\n",
       "       68, 69, 70, 71, 72, 73, 74, 75, 76, 77, 78, 79, 80, 81, 82, 83, 84,\n",
       "       85, 86, 87, 88, 89, 90, 91, 92, 93, 94, 95, 96, 97, 98, 99])"
      ]
     },
     "execution_count": 27,
     "metadata": {},
     "output_type": "execute_result"
    }
   ],
   "source": [
    "v = np.arange(100)\n",
    "v"
   ]
  },
  {
   "cell_type": "code",
   "execution_count": 29,
   "id": "5ec4f171-ad55-4f16-8e26-33e5b376f0e0",
   "metadata": {},
   "outputs": [
    {
     "name": "stdout",
     "output_type": "stream",
     "text": [
      "[50 51 52 53 54 55 56 57 58 59 60 61 62 63 64 65 66 67 68 69]\n"
     ]
    }
   ],
   "source": [
    "#u = v[1:3]\n",
    "print(v[50:70])"
   ]
  },
  {
   "cell_type": "code",
   "execution_count": 34,
   "id": "ecfd2152-f10c-4bdd-a39a-e15aba2d44c5",
   "metadata": {},
   "outputs": [
    {
     "name": "stdout",
     "output_type": "stream",
     "text": [
      "0\n"
     ]
    }
   ],
   "source": [
    "print(v[0])"
   ]
  },
  {
   "cell_type": "code",
   "execution_count": 35,
   "id": "fdf4b215-0324-48d6-bad9-a3a2543f6e74",
   "metadata": {},
   "outputs": [],
   "source": [
    "v = v.reshape(2,-1)"
   ]
  },
  {
   "cell_type": "code",
   "execution_count": 36,
   "id": "9b1c8b52-ade3-4d03-b193-b148c9db0ce8",
   "metadata": {},
   "outputs": [
    {
     "data": {
      "text/plain": [
       "array([[ 0,  1,  2,  3,  4,  5,  6,  7,  8,  9, 10, 11, 12, 13, 14, 15,\n",
       "        16, 17, 18, 19, 20, 21, 22, 23, 24, 25, 26, 27, 28, 29, 30, 31,\n",
       "        32, 33, 34, 35, 36, 37, 38, 39, 40, 41, 42, 43, 44, 45, 46, 47,\n",
       "        48, 49],\n",
       "       [50, 51, 52, 53, 54, 55, 56, 57, 58, 59, 60, 61, 62, 63, 64, 65,\n",
       "        66, 67, 68, 69, 70, 71, 72, 73, 74, 75, 76, 77, 78, 79, 80, 81,\n",
       "        82, 83, 84, 85, 86, 87, 88, 89, 90, 91, 92, 93, 94, 95, 96, 97,\n",
       "        98, 99]])"
      ]
     },
     "execution_count": 36,
     "metadata": {},
     "output_type": "execute_result"
    }
   ],
   "source": [
    "v"
   ]
  },
  {
   "cell_type": "code",
   "execution_count": 40,
   "id": "400bcd03-8926-40bd-a586-e97afa5b2576",
   "metadata": {},
   "outputs": [
    {
     "name": "stdout",
     "output_type": "stream",
     "text": [
      "53\n"
     ]
    }
   ],
   "source": [
    "print(v[1,3])"
   ]
  },
  {
   "cell_type": "code",
   "execution_count": 44,
   "id": "3e56c4aa-24ec-4522-a3a5-d52b39b471fb",
   "metadata": {},
   "outputs": [
    {
     "name": "stdout",
     "output_type": "stream",
     "text": [
      "[[ 2  4]\n",
      " [52 54]]\n"
     ]
    }
   ],
   "source": [
    "print(v[:,[2,4]])"
   ]
  },
  {
   "cell_type": "code",
   "execution_count": 41,
   "id": "fac09125-743a-4207-8c68-48ff366f6aa4",
   "metadata": {},
   "outputs": [
    {
     "data": {
      "text/plain": [
       "array([0, 1, 2, 3, 4])"
      ]
     },
     "execution_count": 41,
     "metadata": {},
     "output_type": "execute_result"
    }
   ],
   "source": [
    "u = np.arange(9)\n",
    "u"
   ]
  },
  {
   "cell_type": "code",
   "execution_count": 42,
   "id": "349ffbe7-84ca-4cd9-bbcc-7ab96053f797",
   "metadata": {},
   "outputs": [
    {
     "name": "stdout",
     "output_type": "stream",
     "text": [
      "[0 3]\n"
     ]
    }
   ],
   "source": [
    "print(u[[0,3]])"
   ]
  },
  {
   "cell_type": "code",
   "execution_count": 46,
   "id": "a45543f0-831a-435c-abab-d3c11399ec46",
   "metadata": {},
   "outputs": [
    {
     "data": {
      "text/plain": [
       "array([[0, 1, 2],\n",
       "       [3, 4, 5],\n",
       "       [6, 7, 8]])"
      ]
     },
     "execution_count": 46,
     "metadata": {},
     "output_type": "execute_result"
    }
   ],
   "source": [
    "x = np.arange(9).reshape(3,3)\n",
    "x"
   ]
  },
  {
   "cell_type": "code",
   "execution_count": 52,
   "id": "f1557c4e-f407-4408-b257-8f3a472ef89e",
   "metadata": {},
   "outputs": [
    {
     "name": "stdout",
     "output_type": "stream",
     "text": [
      "[0 1 2] [3 4 5] [6 7 8]\n"
     ]
    }
   ],
   "source": [
    "print(x[0],x[1],x[2])"
   ]
  },
  {
   "cell_type": "code",
   "execution_count": 54,
   "id": "3b78f429-84d9-44c3-b202-74deaef3f063",
   "metadata": {},
   "outputs": [
    {
     "name": "stdout",
     "output_type": "stream",
     "text": [
      "0 3 2\n"
     ]
    }
   ],
   "source": [
    "print(x[0,0],x[1,0],x[0,2])"
   ]
  },
  {
   "cell_type": "code",
   "execution_count": 61,
   "id": "c929dbbc-1d97-404b-b873-cf233df693a2",
   "metadata": {},
   "outputs": [
    {
     "name": "stdout",
     "output_type": "stream",
     "text": [
      "[0 3 6]\n"
     ]
    }
   ],
   "source": [
    "print(x[::,0])"
   ]
  },
  {
   "cell_type": "code",
   "execution_count": 64,
   "id": "230a7e5e-2a0d-448c-a31d-0462e05e1c48",
   "metadata": {},
   "outputs": [
    {
     "name": "stdout",
     "output_type": "stream",
     "text": [
      "[[3 4 5]]\n",
      "[5]\n"
     ]
    }
   ],
   "source": [
    "print(x[1:2])\n",
    "print(x[1:2,2])"
   ]
  },
  {
   "cell_type": "code",
   "execution_count": 65,
   "id": "5decb268-bcfc-4c55-aed2-df69432e9797",
   "metadata": {},
   "outputs": [
    {
     "data": {
      "text/plain": [
       "array([0. , 0.5, 1. , 1.5, 2. , 2.5, 3. , 3.5, 4. , 4.5, 5. , 5.5, 6. ,\n",
       "       6.5, 7. , 7.5, 8. , 8.5, 9. , 9.5])"
      ]
     },
     "execution_count": 65,
     "metadata": {},
     "output_type": "execute_result"
    }
   ],
   "source": [
    "t = np.arange(0,10,0.5)\n",
    "t"
   ]
  },
  {
   "cell_type": "code",
   "execution_count": 66,
   "id": "108a8a01-de3b-4427-bfdf-7c71ef2a6c7f",
   "metadata": {},
   "outputs": [
    {
     "data": {
      "text/plain": [
       "array([ 0.        ,  0.25641026,  0.51282051,  0.76923077,  1.02564103,\n",
       "        1.28205128,  1.53846154,  1.79487179,  2.05128205,  2.30769231,\n",
       "        2.56410256,  2.82051282,  3.07692308,  3.33333333,  3.58974359,\n",
       "        3.84615385,  4.1025641 ,  4.35897436,  4.61538462,  4.87179487,\n",
       "        5.12820513,  5.38461538,  5.64102564,  5.8974359 ,  6.15384615,\n",
       "        6.41025641,  6.66666667,  6.92307692,  7.17948718,  7.43589744,\n",
       "        7.69230769,  7.94871795,  8.20512821,  8.46153846,  8.71794872,\n",
       "        8.97435897,  9.23076923,  9.48717949,  9.74358974, 10.        ])"
      ]
     },
     "execution_count": 66,
     "metadata": {},
     "output_type": "execute_result"
    }
   ],
   "source": [
    "y = np.linspace(0,10,40)\n",
    "y"
   ]
  },
  {
   "cell_type": "code",
   "execution_count": 70,
   "id": "f29b4780-0abe-4320-adbf-9e2eda0e1e07",
   "metadata": {},
   "outputs": [
    {
     "name": "stdout",
     "output_type": "stream",
     "text": [
      "10.0\n"
     ]
    }
   ],
   "source": [
    "soma = y[1]+y[-2]\n",
    "print(soma)"
   ]
  },
  {
   "cell_type": "code",
   "execution_count": 72,
   "id": "de698a0d-16ec-4f72-a506-1404ee774b84",
   "metadata": {},
   "outputs": [
    {
     "data": {
      "text/plain": [
       "array([[ 1.39266374,  0.53510406, -0.28472464,  0.74494028,  0.58674765,\n",
       "         0.29667108,  0.67136221, -0.63154129],\n",
       "       [ 0.58679512, -2.13909671, -0.52020321,  1.92304048,  0.7559027 ,\n",
       "        -2.09946167,  0.96131435, -0.1316656 ],\n",
       "       [-0.00519529,  0.69643631,  0.82385534, -1.61733069, -0.24472501,\n",
       "        -0.18270737, -0.5329676 ,  0.78316524]])"
      ]
     },
     "execution_count": 72,
     "metadata": {},
     "output_type": "execute_result"
    }
   ],
   "source": [
    "x = np.random.randn(3,8)\n",
    "x"
   ]
  },
  {
   "cell_type": "code",
   "execution_count": 8,
   "id": "a583a752-b62e-4275-a84c-1d2f827f2a64",
   "metadata": {},
   "outputs": [
    {
     "name": "stdout",
     "output_type": "stream",
     "text": [
      "Media: 3316.4\n",
      "Mediana: 3239.0\n",
      "Desvio Padrao: 344.1346248199969\n"
     ]
    }
   ],
   "source": [
    "lista44 = np.array([3094, 3268, 4302, 3184, 3266, 3124, 3316, 3212, 3380, 3018])\n",
    "print('Media:',np.mean(lista44))\n",
    "print('Mediana:',np.median(lista44))\n",
    "print('Desvio Padrao:',np.std(lista44))"
   ]
  },
  {
   "cell_type": "code",
   "execution_count": 3,
   "id": "1f9a6226-bfa1-4f76-bd71-9bdfda356883",
   "metadata": {},
   "outputs": [
    {
     "name": "stdout",
     "output_type": "stream",
     "text": [
      "Media: 56.3\n",
      "Mediana: 61.5\n",
      "Desvio Padrao: 22.122612865572638\n"
     ]
    }
   ],
   "source": [
    "lista99 = np.array([76,34,64,74,42,23,59,79,26,86])\n",
    "print('Media:',np.mean(lista99))\n",
    "print('Mediana:',np.median(lista99))\n",
    "print('Desvio Padrao:',np.std(lista99))"
   ]
  },
  {
   "cell_type": "code",
   "execution_count": null,
   "id": "04a2b2f6-3247-4653-a482-2ed635b1b26e",
   "metadata": {},
   "outputs": [],
   "source": []
  }
 ],
 "metadata": {
  "kernelspec": {
   "display_name": "Python 3 (ipykernel)",
   "language": "python",
   "name": "python3"
  },
  "language_info": {
   "codemirror_mode": {
    "name": "ipython",
    "version": 3
   },
   "file_extension": ".py",
   "mimetype": "text/x-python",
   "name": "python",
   "nbconvert_exporter": "python",
   "pygments_lexer": "ipython3",
   "version": "3.9.7"
  }
 },
 "nbformat": 4,
 "nbformat_minor": 5
}
